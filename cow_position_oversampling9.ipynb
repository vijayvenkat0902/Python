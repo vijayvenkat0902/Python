{
 "cells": [
  {
   "cell_type": "markdown",
   "id": "9f65606d",
   "metadata": {},
   "source": [
    "# PROJECT: Classifying Cow’s activities"
   ]
  },
  {
   "cell_type": "markdown",
   "id": "2bdfa823",
   "metadata": {},
   "source": [
    "## AIM : Classify Cow’s activities into 9 categories based on Data collected from IMU SENSORS"
   ]
  },
  {
   "cell_type": "markdown",
   "id": "1e52c195",
   "metadata": {},
   "source": [
    "### Data\n",
    "#### IMU Data (Accelerometer, Gyroscope, Magnetometer)\n",
    "#### What is IMU?\n",
    "Inertial measurement unit, used to describe a collection of measurement \n",
    "tools, when installed in some device, catches movement with the help of \n",
    "accelerometer, gyroscope and magnetometer, in 3d space."
   ]
  },
  {
   "cell_type": "markdown",
   "id": "a959cf73",
   "metadata": {},
   "source": [
    "#### Variable names:-\n",
    "* acc_x,acc_y,acc_z: accelerometer output for all 3 dimensions movement.\n",
    "* gyr_x,gyr_y,gyr_z: gyroscope outputs, it measures rotation, rotation rate \n",
    "(angular velocity).\n",
    "* mag_x,mag_y,mag_z: magnetometer outputs, catches magnetic field \n",
    "around the device.\n",
    "* All three (Acc, Gyr, Mag) gives output in different SI Units i.e The scale for all three are different, so Data must be normalized"
   ]
  },
  {
   "cell_type": "markdown",
   "id": "3341d92c",
   "metadata": {},
   "source": [
    "##### Classes and their Encoded values:-\n",
    "* eating = 1\n",
    "* drinking = 2\n",
    "* walking = 3\n",
    "* standing =4\n",
    "* lying = 5\n",
    "* ruminating standing = 6\n",
    "* ruminating lying = 7\n",
    "* grooming = 8\n",
    "* idle/other = 9"
   ]
  },
  {
   "cell_type": "markdown",
   "id": "fdb91daa",
   "metadata": {},
   "source": [
    "#### Notebook Contents :\n",
    "1. Dataset Information\n",
    "2. Exploratory Data Analysis (EDA)\n",
    "3. Feature Engineering\n",
    "4. Modeling\n",
    "5. Conclusion"
   ]
  },
  {
   "cell_type": "markdown",
   "id": "052ac9e7",
   "metadata": {},
   "source": [
    "### 1. Dataset Information"
   ]
  },
  {
   "cell_type": "code",
   "execution_count": 1,
   "id": "22562e66",
   "metadata": {},
   "outputs": [],
   "source": [
    "#importing the common libraries\n",
    "import numpy as np\n",
    "import pandas as pd\n",
    "import matplotlib.pyplot as plt\n",
    "import seaborn as sns\n",
    "%matplotlib inline\n",
    "import warnings\n",
    "warnings.filterwarnings('ignore')"
   ]
  },
  {
   "cell_type": "code",
   "execution_count": 2,
   "id": "8bb88f29",
   "metadata": {},
   "outputs": [],
   "source": [
    "#importing the dataset\n",
    "drinking = pd.read_csv(r'D:\\dsap class\\project\\COW DATASET\\Classify cow positions using Machine Learning\\D2_train.csv')\n",
    "eating = pd.read_csv(r'D:\\dsap class\\project\\COW DATASET\\Classify cow positions using Machine Learning\\E1_train.csv')\n",
    "walking = pd.read_csv(r'D:\\dsap class\\project\\COW DATASET\\Classify cow positions using Machine Learning\\W3_train.csv') \n",
    "grooming = pd.read_csv(r'D:\\dsap class\\project\\COW DATASET\\Classify cow positions using Machine Learning\\G8_train.csv')\n",
    "idle = pd.read_csv(r'D:\\dsap class\\project\\COW DATASET\\Classify cow positions using Machine Learning\\I9_train.csv')\n",
    "lying = pd.read_csv(r'D:\\dsap class\\project\\COW DATASET\\Classify cow positions using Machine Learning\\L5_train.csv')\n",
    "ruminating_lying = pd.read_csv(r'D:\\dsap class\\project\\COW DATASET\\Classify cow positions using Machine Learning\\RL7_train.csv')\n",
    "ruminating_standing = pd.read_csv(r'D:\\dsap class\\project\\COW DATASET\\Classify cow positions using Machine Learning\\RS6_train.csv')\n",
    "standing = pd.read_csv(r'D:\\dsap class\\project\\COW DATASET\\Classify cow positions using Machine Learning\\S4_train.csv')"
   ]
  },
  {
   "cell_type": "code",
   "execution_count": 3,
   "id": "33632e03",
   "metadata": {},
   "outputs": [],
   "source": [
    "# concatenating all the csv files\n",
    "df = pd.concat([drinking, eating, walking, grooming, idle, lying, ruminating_lying, ruminating_standing, standing])"
   ]
  },
  {
   "cell_type": "code",
   "execution_count": 4,
   "id": "5f2adf60",
   "metadata": {},
   "outputs": [
    {
     "data": {
      "text/html": [
       "<div>\n",
       "<style scoped>\n",
       "    .dataframe tbody tr th:only-of-type {\n",
       "        vertical-align: middle;\n",
       "    }\n",
       "\n",
       "    .dataframe tbody tr th {\n",
       "        vertical-align: top;\n",
       "    }\n",
       "\n",
       "    .dataframe thead th {\n",
       "        text-align: right;\n",
       "    }\n",
       "</style>\n",
       "<table border=\"1\" class=\"dataframe\">\n",
       "  <thead>\n",
       "    <tr style=\"text-align: right;\">\n",
       "      <th></th>\n",
       "      <th>time</th>\n",
       "      <th>acc_x</th>\n",
       "      <th>acc_y</th>\n",
       "      <th>acc_z</th>\n",
       "      <th>gyr_x</th>\n",
       "      <th>gyr_y</th>\n",
       "      <th>gyr_z</th>\n",
       "      <th>mag_x</th>\n",
       "      <th>mag_y</th>\n",
       "      <th>mag_z</th>\n",
       "      <th>label</th>\n",
       "    </tr>\n",
       "  </thead>\n",
       "  <tbody>\n",
       "    <tr>\n",
       "      <th>0</th>\n",
       "      <td>1628079761</td>\n",
       "      <td>-0.187012</td>\n",
       "      <td>1.071289</td>\n",
       "      <td>0.321289</td>\n",
       "      <td>7.934570</td>\n",
       "      <td>-40.527344</td>\n",
       "      <td>17.028809</td>\n",
       "      <td>-526.5</td>\n",
       "      <td>1437.0</td>\n",
       "      <td>513.0</td>\n",
       "      <td>2</td>\n",
       "    </tr>\n",
       "    <tr>\n",
       "      <th>1</th>\n",
       "      <td>1628079761</td>\n",
       "      <td>-0.137207</td>\n",
       "      <td>1.099121</td>\n",
       "      <td>0.294922</td>\n",
       "      <td>0.305176</td>\n",
       "      <td>-44.677734</td>\n",
       "      <td>15.930176</td>\n",
       "      <td>-528.0</td>\n",
       "      <td>1423.5</td>\n",
       "      <td>495.0</td>\n",
       "      <td>2</td>\n",
       "    </tr>\n",
       "    <tr>\n",
       "      <th>2</th>\n",
       "      <td>1628079761</td>\n",
       "      <td>0.028320</td>\n",
       "      <td>1.053711</td>\n",
       "      <td>0.215820</td>\n",
       "      <td>-9.216309</td>\n",
       "      <td>-42.541504</td>\n",
       "      <td>10.681152</td>\n",
       "      <td>-510.0</td>\n",
       "      <td>1419.0</td>\n",
       "      <td>484.5</td>\n",
       "      <td>2</td>\n",
       "    </tr>\n",
       "    <tr>\n",
       "      <th>3</th>\n",
       "      <td>1628079761</td>\n",
       "      <td>0.151856</td>\n",
       "      <td>0.960938</td>\n",
       "      <td>0.206543</td>\n",
       "      <td>-15.502930</td>\n",
       "      <td>-31.433105</td>\n",
       "      <td>4.943848</td>\n",
       "      <td>-529.5</td>\n",
       "      <td>1428.0</td>\n",
       "      <td>496.5</td>\n",
       "      <td>2</td>\n",
       "    </tr>\n",
       "    <tr>\n",
       "      <th>4</th>\n",
       "      <td>1628079761</td>\n",
       "      <td>0.171387</td>\n",
       "      <td>0.883301</td>\n",
       "      <td>0.247070</td>\n",
       "      <td>-0.061035</td>\n",
       "      <td>-27.832031</td>\n",
       "      <td>-2.685547</td>\n",
       "      <td>-526.5</td>\n",
       "      <td>1420.5</td>\n",
       "      <td>505.5</td>\n",
       "      <td>2</td>\n",
       "    </tr>\n",
       "    <tr>\n",
       "      <th>...</th>\n",
       "      <td>...</td>\n",
       "      <td>...</td>\n",
       "      <td>...</td>\n",
       "      <td>...</td>\n",
       "      <td>...</td>\n",
       "      <td>...</td>\n",
       "      <td>...</td>\n",
       "      <td>...</td>\n",
       "      <td>...</td>\n",
       "      <td>...</td>\n",
       "      <td>...</td>\n",
       "    </tr>\n",
       "    <tr>\n",
       "      <th>2539801</th>\n",
       "      <td>1628397674</td>\n",
       "      <td>0.296875</td>\n",
       "      <td>0.908691</td>\n",
       "      <td>0.293457</td>\n",
       "      <td>0.000000</td>\n",
       "      <td>-1.953125</td>\n",
       "      <td>3.540039</td>\n",
       "      <td>-643.5</td>\n",
       "      <td>880.5</td>\n",
       "      <td>202.5</td>\n",
       "      <td>4</td>\n",
       "    </tr>\n",
       "    <tr>\n",
       "      <th>2539802</th>\n",
       "      <td>1628397674</td>\n",
       "      <td>0.298828</td>\n",
       "      <td>0.915527</td>\n",
       "      <td>0.294434</td>\n",
       "      <td>0.610352</td>\n",
       "      <td>-2.624512</td>\n",
       "      <td>2.563477</td>\n",
       "      <td>-637.5</td>\n",
       "      <td>903.0</td>\n",
       "      <td>216.0</td>\n",
       "      <td>4</td>\n",
       "    </tr>\n",
       "    <tr>\n",
       "      <th>2539803</th>\n",
       "      <td>1628397674</td>\n",
       "      <td>0.301270</td>\n",
       "      <td>0.911133</td>\n",
       "      <td>0.295410</td>\n",
       "      <td>1.037598</td>\n",
       "      <td>-2.746582</td>\n",
       "      <td>3.112793</td>\n",
       "      <td>-622.5</td>\n",
       "      <td>885.0</td>\n",
       "      <td>220.5</td>\n",
       "      <td>4</td>\n",
       "    </tr>\n",
       "    <tr>\n",
       "      <th>2539804</th>\n",
       "      <td>1628397674</td>\n",
       "      <td>0.301758</td>\n",
       "      <td>0.920410</td>\n",
       "      <td>0.284668</td>\n",
       "      <td>2.014160</td>\n",
       "      <td>-2.868652</td>\n",
       "      <td>3.662109</td>\n",
       "      <td>-621.0</td>\n",
       "      <td>909.0</td>\n",
       "      <td>192.0</td>\n",
       "      <td>4</td>\n",
       "    </tr>\n",
       "    <tr>\n",
       "      <th>2539805</th>\n",
       "      <td>1628397674</td>\n",
       "      <td>0.301270</td>\n",
       "      <td>0.911133</td>\n",
       "      <td>0.289062</td>\n",
       "      <td>0.915527</td>\n",
       "      <td>-2.319336</td>\n",
       "      <td>2.868652</td>\n",
       "      <td>-645.0</td>\n",
       "      <td>900.0</td>\n",
       "      <td>193.5</td>\n",
       "      <td>4</td>\n",
       "    </tr>\n",
       "  </tbody>\n",
       "</table>\n",
       "<p>12263524 rows × 11 columns</p>\n",
       "</div>"
      ],
      "text/plain": [
       "               time     acc_x     acc_y     acc_z      gyr_x      gyr_y  \\\n",
       "0        1628079761 -0.187012  1.071289  0.321289   7.934570 -40.527344   \n",
       "1        1628079761 -0.137207  1.099121  0.294922   0.305176 -44.677734   \n",
       "2        1628079761  0.028320  1.053711  0.215820  -9.216309 -42.541504   \n",
       "3        1628079761  0.151856  0.960938  0.206543 -15.502930 -31.433105   \n",
       "4        1628079761  0.171387  0.883301  0.247070  -0.061035 -27.832031   \n",
       "...             ...       ...       ...       ...        ...        ...   \n",
       "2539801  1628397674  0.296875  0.908691  0.293457   0.000000  -1.953125   \n",
       "2539802  1628397674  0.298828  0.915527  0.294434   0.610352  -2.624512   \n",
       "2539803  1628397674  0.301270  0.911133  0.295410   1.037598  -2.746582   \n",
       "2539804  1628397674  0.301758  0.920410  0.284668   2.014160  -2.868652   \n",
       "2539805  1628397674  0.301270  0.911133  0.289062   0.915527  -2.319336   \n",
       "\n",
       "             gyr_z  mag_x   mag_y  mag_z  label  \n",
       "0        17.028809 -526.5  1437.0  513.0      2  \n",
       "1        15.930176 -528.0  1423.5  495.0      2  \n",
       "2        10.681152 -510.0  1419.0  484.5      2  \n",
       "3         4.943848 -529.5  1428.0  496.5      2  \n",
       "4        -2.685547 -526.5  1420.5  505.5      2  \n",
       "...            ...    ...     ...    ...    ...  \n",
       "2539801   3.540039 -643.5   880.5  202.5      4  \n",
       "2539802   2.563477 -637.5   903.0  216.0      4  \n",
       "2539803   3.112793 -622.5   885.0  220.5      4  \n",
       "2539804   3.662109 -621.0   909.0  192.0      4  \n",
       "2539805   2.868652 -645.0   900.0  193.5      4  \n",
       "\n",
       "[12263524 rows x 11 columns]"
      ]
     },
     "execution_count": 4,
     "metadata": {},
     "output_type": "execute_result"
    }
   ],
   "source": [
    "#viewing the concatenated dataset\n",
    "df"
   ]
  },
  {
   "cell_type": "code",
   "execution_count": 5,
   "id": "e46a663a",
   "metadata": {},
   "outputs": [
    {
     "data": {
      "text/plain": [
       "(12263524, 11)"
      ]
     },
     "execution_count": 5,
     "metadata": {},
     "output_type": "execute_result"
    }
   ],
   "source": [
    "#to check the number of rows n columns\n",
    "df.shape"
   ]
  },
  {
   "cell_type": "code",
   "execution_count": 6,
   "id": "935cb8cb",
   "metadata": {},
   "outputs": [
    {
     "data": {
      "text/plain": [
       "time     0\n",
       "acc_x    0\n",
       "acc_y    0\n",
       "acc_z    0\n",
       "gyr_x    0\n",
       "gyr_y    0\n",
       "gyr_z    0\n",
       "mag_x    0\n",
       "mag_y    0\n",
       "mag_z    0\n",
       "label    0\n",
       "dtype: int64"
      ]
     },
     "execution_count": 6,
     "metadata": {},
     "output_type": "execute_result"
    }
   ],
   "source": [
    "#checking for null values\n",
    "df.isnull().sum()"
   ]
  },
  {
   "cell_type": "markdown",
   "id": "3c934ce7",
   "metadata": {},
   "source": [
    "### 2. Exploratory Data Analysis"
   ]
  },
  {
   "cell_type": "code",
   "execution_count": 7,
   "id": "a2d38968",
   "metadata": {},
   "outputs": [
    {
     "data": {
      "text/plain": [
       "(12263524, 11)"
      ]
     },
     "execution_count": 7,
     "metadata": {},
     "output_type": "execute_result"
    }
   ],
   "source": [
    "#checking how many rows and columns are present\n",
    "df.shape"
   ]
  },
  {
   "cell_type": "code",
   "execution_count": 8,
   "id": "992c1790",
   "metadata": {},
   "outputs": [
    {
     "data": {
      "text/plain": [
       "Index(['time', 'acc_x', 'acc_y', 'acc_z', 'gyr_x', 'gyr_y', 'gyr_z', 'mag_x',\n",
       "       'mag_y', 'mag_z', 'label'],\n",
       "      dtype='object')"
      ]
     },
     "execution_count": 8,
     "metadata": {},
     "output_type": "execute_result"
    }
   ],
   "source": [
    "#getting to know the column names\n",
    "df.columns"
   ]
  },
  {
   "cell_type": "code",
   "execution_count": 9,
   "id": "13a4bbb7",
   "metadata": {},
   "outputs": [
    {
     "data": {
      "text/html": [
       "<div>\n",
       "<style scoped>\n",
       "    .dataframe tbody tr th:only-of-type {\n",
       "        vertical-align: middle;\n",
       "    }\n",
       "\n",
       "    .dataframe tbody tr th {\n",
       "        vertical-align: top;\n",
       "    }\n",
       "\n",
       "    .dataframe thead th {\n",
       "        text-align: right;\n",
       "    }\n",
       "</style>\n",
       "<table border=\"1\" class=\"dataframe\">\n",
       "  <thead>\n",
       "    <tr style=\"text-align: right;\">\n",
       "      <th></th>\n",
       "      <th>Feature_name</th>\n",
       "      <th>dtypes</th>\n",
       "      <th>Missing_values</th>\n",
       "      <th>No. Uniques_values</th>\n",
       "    </tr>\n",
       "  </thead>\n",
       "  <tbody>\n",
       "    <tr>\n",
       "      <th>0</th>\n",
       "      <td>time</td>\n",
       "      <td>int64</td>\n",
       "      <td>0</td>\n",
       "      <td>106341</td>\n",
       "    </tr>\n",
       "    <tr>\n",
       "      <th>1</th>\n",
       "      <td>acc_x</td>\n",
       "      <td>float64</td>\n",
       "      <td>0</td>\n",
       "      <td>6843</td>\n",
       "    </tr>\n",
       "    <tr>\n",
       "      <th>2</th>\n",
       "      <td>acc_y</td>\n",
       "      <td>float64</td>\n",
       "      <td>0</td>\n",
       "      <td>9373</td>\n",
       "    </tr>\n",
       "    <tr>\n",
       "      <th>3</th>\n",
       "      <td>acc_z</td>\n",
       "      <td>float64</td>\n",
       "      <td>0</td>\n",
       "      <td>7552</td>\n",
       "    </tr>\n",
       "    <tr>\n",
       "      <th>4</th>\n",
       "      <td>gyr_x</td>\n",
       "      <td>float64</td>\n",
       "      <td>0</td>\n",
       "      <td>9525</td>\n",
       "    </tr>\n",
       "    <tr>\n",
       "      <th>5</th>\n",
       "      <td>gyr_y</td>\n",
       "      <td>float64</td>\n",
       "      <td>0</td>\n",
       "      <td>11236</td>\n",
       "    </tr>\n",
       "    <tr>\n",
       "      <th>6</th>\n",
       "      <td>gyr_z</td>\n",
       "      <td>float64</td>\n",
       "      <td>0</td>\n",
       "      <td>6473</td>\n",
       "    </tr>\n",
       "    <tr>\n",
       "      <th>7</th>\n",
       "      <td>mag_x</td>\n",
       "      <td>float64</td>\n",
       "      <td>0</td>\n",
       "      <td>1280</td>\n",
       "    </tr>\n",
       "    <tr>\n",
       "      <th>8</th>\n",
       "      <td>mag_y</td>\n",
       "      <td>float64</td>\n",
       "      <td>0</td>\n",
       "      <td>1920</td>\n",
       "    </tr>\n",
       "    <tr>\n",
       "      <th>9</th>\n",
       "      <td>mag_z</td>\n",
       "      <td>float64</td>\n",
       "      <td>0</td>\n",
       "      <td>1404</td>\n",
       "    </tr>\n",
       "    <tr>\n",
       "      <th>10</th>\n",
       "      <td>label</td>\n",
       "      <td>int64</td>\n",
       "      <td>0</td>\n",
       "      <td>9</td>\n",
       "    </tr>\n",
       "  </tbody>\n",
       "</table>\n",
       "</div>"
      ],
      "text/plain": [
       "   Feature_name   dtypes  Missing_values  No. Uniques_values\n",
       "0          time    int64               0              106341\n",
       "1         acc_x  float64               0                6843\n",
       "2         acc_y  float64               0                9373\n",
       "3         acc_z  float64               0                7552\n",
       "4         gyr_x  float64               0                9525\n",
       "5         gyr_y  float64               0               11236\n",
       "6         gyr_z  float64               0                6473\n",
       "7         mag_x  float64               0                1280\n",
       "8         mag_y  float64               0                1920\n",
       "9         mag_z  float64               0                1404\n",
       "10        label    int64               0                   9"
      ]
     },
     "execution_count": 9,
     "metadata": {},
     "output_type": "execute_result"
    }
   ],
   "source": [
    "#creating a function to create a table that has feature_name, dtype, missing values and the number of unique values\n",
    "def insights_table(df):\n",
    "    summary = pd.DataFrame(df.dtypes,columns=['dtypes'])\n",
    "    summary = summary.reset_index()\n",
    "    summary['Feature_name'] = summary['index']\n",
    "    summary = summary[['Feature_name','dtypes']]\n",
    "    summary['Missing_values'] = df.isnull().sum().values    \n",
    "    summary['No. Uniques_values'] = df.nunique().values\n",
    "    return summary\n",
    "insights_table(df)"
   ]
  },
  {
   "cell_type": "markdown",
   "id": "439b179c",
   "metadata": {},
   "source": [
    "#### Observation:\n",
    "1. Missing Data : we don't have any missing data.\n",
    "2. There is no object type data, all are either int or float."
   ]
  },
  {
   "cell_type": "code",
   "execution_count": 10,
   "id": "1b28d9d9",
   "metadata": {},
   "outputs": [
    {
     "data": {
      "text/html": [
       "<div>\n",
       "<style scoped>\n",
       "    .dataframe tbody tr th:only-of-type {\n",
       "        vertical-align: middle;\n",
       "    }\n",
       "\n",
       "    .dataframe tbody tr th {\n",
       "        vertical-align: top;\n",
       "    }\n",
       "\n",
       "    .dataframe thead th {\n",
       "        text-align: right;\n",
       "    }\n",
       "</style>\n",
       "<table border=\"1\" class=\"dataframe\">\n",
       "  <thead>\n",
       "    <tr style=\"text-align: right;\">\n",
       "      <th></th>\n",
       "      <th>time</th>\n",
       "      <th>acc_x</th>\n",
       "      <th>acc_y</th>\n",
       "      <th>acc_z</th>\n",
       "      <th>gyr_x</th>\n",
       "      <th>gyr_y</th>\n",
       "      <th>gyr_z</th>\n",
       "      <th>mag_x</th>\n",
       "      <th>mag_y</th>\n",
       "      <th>mag_z</th>\n",
       "      <th>label</th>\n",
       "    </tr>\n",
       "  </thead>\n",
       "  <tbody>\n",
       "    <tr>\n",
       "      <th>count</th>\n",
       "      <td>1.226352e+07</td>\n",
       "      <td>1.226352e+07</td>\n",
       "      <td>1.226352e+07</td>\n",
       "      <td>1.226352e+07</td>\n",
       "      <td>1.226352e+07</td>\n",
       "      <td>1.226352e+07</td>\n",
       "      <td>1.226352e+07</td>\n",
       "      <td>1.226352e+07</td>\n",
       "      <td>1.226352e+07</td>\n",
       "      <td>1.226352e+07</td>\n",
       "      <td>1.226352e+07</td>\n",
       "    </tr>\n",
       "    <tr>\n",
       "      <th>mean</th>\n",
       "      <td>1.628243e+09</td>\n",
       "      <td>-2.807402e-02</td>\n",
       "      <td>6.211683e-01</td>\n",
       "      <td>1.081455e-01</td>\n",
       "      <td>8.722215e-01</td>\n",
       "      <td>-1.837340e+00</td>\n",
       "      <td>-6.375345e-01</td>\n",
       "      <td>-2.934089e+02</td>\n",
       "      <td>4.300977e+02</td>\n",
       "      <td>2.037158e+02</td>\n",
       "      <td>4.320899e+00</td>\n",
       "    </tr>\n",
       "    <tr>\n",
       "      <th>std</th>\n",
       "      <td>1.205662e+05</td>\n",
       "      <td>2.622167e-01</td>\n",
       "      <td>7.084800e-01</td>\n",
       "      <td>1.888613e-01</td>\n",
       "      <td>1.282481e+01</td>\n",
       "      <td>2.014151e+01</td>\n",
       "      <td>1.030093e+01</td>\n",
       "      <td>2.736141e+02</td>\n",
       "      <td>5.969720e+02</td>\n",
       "      <td>4.382996e+02</td>\n",
       "      <td>2.417436e+00</td>\n",
       "    </tr>\n",
       "    <tr>\n",
       "      <th>min</th>\n",
       "      <td>1.628067e+09</td>\n",
       "      <td>-1.599756e+01</td>\n",
       "      <td>-1.314160e+01</td>\n",
       "      <td>-1.599121e+01</td>\n",
       "      <td>-1.999756e+03</td>\n",
       "      <td>-1.998779e+03</td>\n",
       "      <td>-1.999756e+03</td>\n",
       "      <td>-1.534500e+03</td>\n",
       "      <td>-1.057500e+03</td>\n",
       "      <td>-1.152000e+03</td>\n",
       "      <td>1.000000e+00</td>\n",
       "    </tr>\n",
       "    <tr>\n",
       "      <th>25%</th>\n",
       "      <td>1.628106e+09</td>\n",
       "      <td>-2.182617e-01</td>\n",
       "      <td>8.281250e-01</td>\n",
       "      <td>3.173830e-02</td>\n",
       "      <td>-2.014160e+00</td>\n",
       "      <td>-5.676270e+00</td>\n",
       "      <td>-2.685547e+00</td>\n",
       "      <td>-4.635000e+02</td>\n",
       "      <td>-4.950000e+01</td>\n",
       "      <td>6.900000e+01</td>\n",
       "      <td>1.000000e+00</td>\n",
       "    </tr>\n",
       "    <tr>\n",
       "      <th>50%</th>\n",
       "      <td>1.628312e+09</td>\n",
       "      <td>-2.490230e-02</td>\n",
       "      <td>9.370118e-01</td>\n",
       "      <td>1.230469e-01</td>\n",
       "      <td>8.544922e-01</td>\n",
       "      <td>-1.892090e+00</td>\n",
       "      <td>-6.103516e-01</td>\n",
       "      <td>-2.535000e+02</td>\n",
       "      <td>1.395000e+02</td>\n",
       "      <td>3.165000e+02</td>\n",
       "      <td>4.000000e+00</td>\n",
       "    </tr>\n",
       "    <tr>\n",
       "      <th>75%</th>\n",
       "      <td>1.628335e+09</td>\n",
       "      <td>1.616211e-01</td>\n",
       "      <td>9.736329e-01</td>\n",
       "      <td>2.006836e-01</td>\n",
       "      <td>3.723145e+00</td>\n",
       "      <td>1.892090e+00</td>\n",
       "      <td>1.464844e+00</td>\n",
       "      <td>-1.260000e+02</td>\n",
       "      <td>9.795000e+02</td>\n",
       "      <td>5.520000e+02</td>\n",
       "      <td>6.000000e+00</td>\n",
       "    </tr>\n",
       "    <tr>\n",
       "      <th>max</th>\n",
       "      <td>1.628421e+09</td>\n",
       "      <td>1.051514e+01</td>\n",
       "      <td>1.182617e+01</td>\n",
       "      <td>1.599854e+01</td>\n",
       "      <td>1.999756e+03</td>\n",
       "      <td>1.999939e+03</td>\n",
       "      <td>1.973511e+03</td>\n",
       "      <td>7.920000e+02</td>\n",
       "      <td>1.918500e+03</td>\n",
       "      <td>1.179000e+03</td>\n",
       "      <td>9.000000e+00</td>\n",
       "    </tr>\n",
       "  </tbody>\n",
       "</table>\n",
       "</div>"
      ],
      "text/plain": [
       "               time         acc_x         acc_y         acc_z         gyr_x  \\\n",
       "count  1.226352e+07  1.226352e+07  1.226352e+07  1.226352e+07  1.226352e+07   \n",
       "mean   1.628243e+09 -2.807402e-02  6.211683e-01  1.081455e-01  8.722215e-01   \n",
       "std    1.205662e+05  2.622167e-01  7.084800e-01  1.888613e-01  1.282481e+01   \n",
       "min    1.628067e+09 -1.599756e+01 -1.314160e+01 -1.599121e+01 -1.999756e+03   \n",
       "25%    1.628106e+09 -2.182617e-01  8.281250e-01  3.173830e-02 -2.014160e+00   \n",
       "50%    1.628312e+09 -2.490230e-02  9.370118e-01  1.230469e-01  8.544922e-01   \n",
       "75%    1.628335e+09  1.616211e-01  9.736329e-01  2.006836e-01  3.723145e+00   \n",
       "max    1.628421e+09  1.051514e+01  1.182617e+01  1.599854e+01  1.999756e+03   \n",
       "\n",
       "              gyr_y         gyr_z         mag_x         mag_y         mag_z  \\\n",
       "count  1.226352e+07  1.226352e+07  1.226352e+07  1.226352e+07  1.226352e+07   \n",
       "mean  -1.837340e+00 -6.375345e-01 -2.934089e+02  4.300977e+02  2.037158e+02   \n",
       "std    2.014151e+01  1.030093e+01  2.736141e+02  5.969720e+02  4.382996e+02   \n",
       "min   -1.998779e+03 -1.999756e+03 -1.534500e+03 -1.057500e+03 -1.152000e+03   \n",
       "25%   -5.676270e+00 -2.685547e+00 -4.635000e+02 -4.950000e+01  6.900000e+01   \n",
       "50%   -1.892090e+00 -6.103516e-01 -2.535000e+02  1.395000e+02  3.165000e+02   \n",
       "75%    1.892090e+00  1.464844e+00 -1.260000e+02  9.795000e+02  5.520000e+02   \n",
       "max    1.999939e+03  1.973511e+03  7.920000e+02  1.918500e+03  1.179000e+03   \n",
       "\n",
       "              label  \n",
       "count  1.226352e+07  \n",
       "mean   4.320899e+00  \n",
       "std    2.417436e+00  \n",
       "min    1.000000e+00  \n",
       "25%    1.000000e+00  \n",
       "50%    4.000000e+00  \n",
       "75%    6.000000e+00  \n",
       "max    9.000000e+00  "
      ]
     },
     "execution_count": 10,
     "metadata": {},
     "output_type": "execute_result"
    }
   ],
   "source": [
    "df.describe()"
   ]
  },
  {
   "cell_type": "code",
   "execution_count": 11,
   "id": "ac0cc3fb",
   "metadata": {},
   "outputs": [
    {
     "data": {
      "text/plain": [
       "1    3405702\n",
       "4    2539806\n",
       "7    1928968\n",
       "5    1711687\n",
       "6    1703683\n",
       "9     405263\n",
       "8     368607\n",
       "3     145369\n",
       "2      54439\n",
       "Name: label, dtype: int64"
      ]
     },
     "execution_count": 11,
     "metadata": {},
     "output_type": "execute_result"
    }
   ],
   "source": [
    "df['label'].value_counts()"
   ]
  },
  {
   "cell_type": "code",
   "execution_count": 12,
   "id": "fc329a96",
   "metadata": {},
   "outputs": [
    {
     "data": {
      "image/png": "[encoded data removed]",
      "text/plain": [
       "<Figure size 432x288 with 1 Axes>"
      ]
     },
     "metadata": {},
     "output_type": "display_data"
    }
   ],
   "source": [
    "#distribution of df\n",
    "plt.pie(df['label'].value_counts(), autopct = '%1.1f%%')\n",
    "plt.show()"
   ]
  },
  {
   "cell_type": "code",
   "execution_count": 13,
   "id": "11678a96",
   "metadata": {},
   "outputs": [
    {
     "data": {
      "text/plain": [
       "<AxesSubplot:xlabel='label', ylabel='count'>"
      ]
     },
     "execution_count": 13,
     "metadata": {},
     "output_type": "execute_result"
    },
    {
     "data": {
      "image/png": "[encoded data removed]",
      "text/plain": [
       "<Figure size 432x288 with 1 Axes>"
      ]
     },
     "metadata": {
      "needs_background": "light"
     },
     "output_type": "display_data"
    }
   ],
   "source": [
    "#understanding our target variable\n",
    "sns.countplot(df['label'])"
   ]
  },
  {
   "cell_type": "code",
   "execution_count": 14,
   "id": "c9736487",
   "metadata": {},
   "outputs": [
    {
     "data": {
      "text/plain": [
       "1    27.770990\n",
       "4    20.710246\n",
       "7    15.729312\n",
       "5    13.957546\n",
       "6    13.892279\n",
       "9     3.304621\n",
       "8     3.005718\n",
       "3     1.185377\n",
       "2     0.443910\n",
       "Name: label, dtype: float64"
      ]
     },
     "execution_count": 14,
     "metadata": {},
     "output_type": "execute_result"
    }
   ],
   "source": [
    "#checking the percentage of each class of the target variable present in the data\n",
    "(df['label'].value_counts()/len(df['label']))*100"
   ]
  },
  {
   "cell_type": "markdown",
   "id": "6f09eef2",
   "metadata": {},
   "source": [
    "##### Observation:\n",
    "The target variables are imbalanced!"
   ]
  },
  {
   "cell_type": "markdown",
   "id": "25d0e05b",
   "metadata": {},
   "source": [
    "### Correlation"
   ]
  },
  {
   "cell_type": "code",
   "execution_count": 15,
   "id": "0df671e3",
   "metadata": {},
   "outputs": [
    {
     "data": {
      "text/html": [
       "<div>\n",
       "<style scoped>\n",
       "    .dataframe tbody tr th:only-of-type {\n",
       "        vertical-align: middle;\n",
       "    }\n",
       "\n",
       "    .dataframe tbody tr th {\n",
       "        vertical-align: top;\n",
       "    }\n",
       "\n",
       "    .dataframe thead th {\n",
       "        text-align: right;\n",
       "    }\n",
       "</style>\n",
       "<table border=\"1\" class=\"dataframe\">\n",
       "  <thead>\n",
       "    <tr style=\"text-align: right;\">\n",
       "      <th></th>\n",
       "      <th>time</th>\n",
       "      <th>acc_x</th>\n",
       "      <th>acc_y</th>\n",
       "      <th>acc_z</th>\n",
       "      <th>gyr_x</th>\n",
       "      <th>gyr_y</th>\n",
       "      <th>gyr_z</th>\n",
       "      <th>mag_x</th>\n",
       "      <th>mag_y</th>\n",
       "      <th>mag_z</th>\n",
       "      <th>label</th>\n",
       "    </tr>\n",
       "  </thead>\n",
       "  <tbody>\n",
       "    <tr>\n",
       "      <th>time</th>\n",
       "      <td>1.000000</td>\n",
       "      <td>-0.108821</td>\n",
       "      <td>-0.118527</td>\n",
       "      <td>0.054428</td>\n",
       "      <td>-0.005030</td>\n",
       "      <td>-0.002011</td>\n",
       "      <td>-0.008394</td>\n",
       "      <td>0.187664</td>\n",
       "      <td>0.066354</td>\n",
       "      <td>0.032587</td>\n",
       "      <td>-0.156390</td>\n",
       "    </tr>\n",
       "    <tr>\n",
       "      <th>acc_x</th>\n",
       "      <td>-0.108821</td>\n",
       "      <td>1.000000</td>\n",
       "      <td>0.068235</td>\n",
       "      <td>-0.064783</td>\n",
       "      <td>-0.001430</td>\n",
       "      <td>0.006372</td>\n",
       "      <td>-0.004203</td>\n",
       "      <td>-0.481286</td>\n",
       "      <td>0.068210</td>\n",
       "      <td>0.144633</td>\n",
       "      <td>0.181582</td>\n",
       "    </tr>\n",
       "    <tr>\n",
       "      <th>acc_y</th>\n",
       "      <td>-0.118527</td>\n",
       "      <td>0.068235</td>\n",
       "      <td>1.000000</td>\n",
       "      <td>-0.227910</td>\n",
       "      <td>-0.023733</td>\n",
       "      <td>0.006674</td>\n",
       "      <td>0.020762</td>\n",
       "      <td>-0.025147</td>\n",
       "      <td>0.382588</td>\n",
       "      <td>0.574042</td>\n",
       "      <td>-0.018375</td>\n",
       "    </tr>\n",
       "    <tr>\n",
       "      <th>acc_z</th>\n",
       "      <td>0.054428</td>\n",
       "      <td>-0.064783</td>\n",
       "      <td>-0.227910</td>\n",
       "      <td>1.000000</td>\n",
       "      <td>0.012389</td>\n",
       "      <td>-0.009027</td>\n",
       "      <td>-0.010025</td>\n",
       "      <td>0.157934</td>\n",
       "      <td>-0.198680</td>\n",
       "      <td>-0.337945</td>\n",
       "      <td>-0.109248</td>\n",
       "    </tr>\n",
       "    <tr>\n",
       "      <th>gyr_x</th>\n",
       "      <td>-0.005030</td>\n",
       "      <td>-0.001430</td>\n",
       "      <td>-0.023733</td>\n",
       "      <td>0.012389</td>\n",
       "      <td>1.000000</td>\n",
       "      <td>-0.009946</td>\n",
       "      <td>-0.088246</td>\n",
       "      <td>-0.004642</td>\n",
       "      <td>-0.009834</td>\n",
       "      <td>-0.033924</td>\n",
       "      <td>0.000211</td>\n",
       "    </tr>\n",
       "    <tr>\n",
       "      <th>gyr_y</th>\n",
       "      <td>-0.002011</td>\n",
       "      <td>0.006372</td>\n",
       "      <td>0.006674</td>\n",
       "      <td>-0.009027</td>\n",
       "      <td>-0.009946</td>\n",
       "      <td>1.000000</td>\n",
       "      <td>0.041503</td>\n",
       "      <td>-0.008726</td>\n",
       "      <td>0.005924</td>\n",
       "      <td>0.013075</td>\n",
       "      <td>0.002118</td>\n",
       "    </tr>\n",
       "    <tr>\n",
       "      <th>gyr_z</th>\n",
       "      <td>-0.008394</td>\n",
       "      <td>-0.004203</td>\n",
       "      <td>0.020762</td>\n",
       "      <td>-0.010025</td>\n",
       "      <td>-0.088246</td>\n",
       "      <td>0.041503</td>\n",
       "      <td>1.000000</td>\n",
       "      <td>0.004679</td>\n",
       "      <td>-0.006413</td>\n",
       "      <td>0.022479</td>\n",
       "      <td>0.001470</td>\n",
       "    </tr>\n",
       "    <tr>\n",
       "      <th>mag_x</th>\n",
       "      <td>0.187664</td>\n",
       "      <td>-0.481286</td>\n",
       "      <td>-0.025147</td>\n",
       "      <td>0.157934</td>\n",
       "      <td>-0.004642</td>\n",
       "      <td>-0.008726</td>\n",
       "      <td>0.004679</td>\n",
       "      <td>1.000000</td>\n",
       "      <td>-0.323132</td>\n",
       "      <td>-0.168128</td>\n",
       "      <td>-0.160687</td>\n",
       "    </tr>\n",
       "    <tr>\n",
       "      <th>mag_y</th>\n",
       "      <td>0.066354</td>\n",
       "      <td>0.068210</td>\n",
       "      <td>0.382588</td>\n",
       "      <td>-0.198680</td>\n",
       "      <td>-0.009834</td>\n",
       "      <td>0.005924</td>\n",
       "      <td>-0.006413</td>\n",
       "      <td>-0.323132</td>\n",
       "      <td>1.000000</td>\n",
       "      <td>0.179491</td>\n",
       "      <td>0.070915</td>\n",
       "    </tr>\n",
       "    <tr>\n",
       "      <th>mag_z</th>\n",
       "      <td>0.032587</td>\n",
       "      <td>0.144633</td>\n",
       "      <td>0.574042</td>\n",
       "      <td>-0.337945</td>\n",
       "      <td>-0.033924</td>\n",
       "      <td>0.013075</td>\n",
       "      <td>0.022479</td>\n",
       "      <td>-0.168128</td>\n",
       "      <td>0.179491</td>\n",
       "      <td>1.000000</td>\n",
       "      <td>0.069653</td>\n",
       "    </tr>\n",
       "    <tr>\n",
       "      <th>label</th>\n",
       "      <td>-0.156390</td>\n",
       "      <td>0.181582</td>\n",
       "      <td>-0.018375</td>\n",
       "      <td>-0.109248</td>\n",
       "      <td>0.000211</td>\n",
       "      <td>0.002118</td>\n",
       "      <td>0.001470</td>\n",
       "      <td>-0.160687</td>\n",
       "      <td>0.070915</td>\n",
       "      <td>0.069653</td>\n",
       "      <td>1.000000</td>\n",
       "    </tr>\n",
       "  </tbody>\n",
       "</table>\n",
       "</div>"
      ],
      "text/plain": [
       "           time     acc_x     acc_y     acc_z     gyr_x     gyr_y     gyr_z  \\\n",
       "time   1.000000 -0.108821 -0.118527  0.054428 -0.005030 -0.002011 -0.008394   \n",
       "acc_x -0.108821  1.000000  0.068235 -0.064783 -0.001430  0.006372 -0.004203   \n",
       "acc_y -0.118527  0.068235  1.000000 -0.227910 -0.023733  0.006674  0.020762   \n",
       "acc_z  0.054428 -0.064783 -0.227910  1.000000  0.012389 -0.009027 -0.010025   \n",
       "gyr_x -0.005030 -0.001430 -0.023733  0.012389  1.000000 -0.009946 -0.088246   \n",
       "gyr_y -0.002011  0.006372  0.006674 -0.009027 -0.009946  1.000000  0.041503   \n",
       "gyr_z -0.008394 -0.004203  0.020762 -0.010025 -0.088246  0.041503  1.000000   \n",
       "mag_x  0.187664 -0.481286 -0.025147  0.157934 -0.004642 -0.008726  0.004679   \n",
       "mag_y  0.066354  0.068210  0.382588 -0.198680 -0.009834  0.005924 -0.006413   \n",
       "mag_z  0.032587  0.144633  0.574042 -0.337945 -0.033924  0.013075  0.022479   \n",
       "label -0.156390  0.181582 -0.018375 -0.109248  0.000211  0.002118  0.001470   \n",
       "\n",
       "          mag_x     mag_y     mag_z     label  \n",
       "time   0.187664  0.066354  0.032587 -0.156390  \n",
       "acc_x -0.481286  0.068210  0.144633  0.181582  \n",
       "acc_y -0.025147  0.382588  0.574042 -0.018375  \n",
       "acc_z  0.157934 -0.198680 -0.337945 -0.109248  \n",
       "gyr_x -0.004642 -0.009834 -0.033924  0.000211  \n",
       "gyr_y -0.008726  0.005924  0.013075  0.002118  \n",
       "gyr_z  0.004679 -0.006413  0.022479  0.001470  \n",
       "mag_x  1.000000 -0.323132 -0.168128 -0.160687  \n",
       "mag_y -0.323132  1.000000  0.179491  0.070915  \n",
       "mag_z -0.168128  0.179491  1.000000  0.069653  \n",
       "label -0.160687  0.070915  0.069653  1.000000  "
      ]
     },
     "execution_count": 15,
     "metadata": {},
     "output_type": "execute_result"
    }
   ],
   "source": [
    "df.corr()"
   ]
  },
  {
   "cell_type": "code",
   "execution_count": 16,
   "id": "b38dba59",
   "metadata": {},
   "outputs": [
    {
     "data": {
      "image/png": "[encoded data removed]",
      "text/plain": [
       "<Figure size 1080x720 with 2 Axes>"
      ]
     },
     "metadata": {
      "needs_background": "light"
     },
     "output_type": "display_data"
    }
   ],
   "source": [
    "#checking the correlation between all the features\n",
    "plt.figure(figsize=(15,10))\n",
    "cor = df.corr()\n",
    "sns.heatmap(cor,annot = True, cmap=\"twilight_shifted\", fmt = '.0%' )\n",
    "plt.show()"
   ]
  },
  {
   "cell_type": "code",
   "execution_count": 17,
   "id": "7c75ad78",
   "metadata": {},
   "outputs": [
    {
     "data": {
      "text/plain": [
       "<AxesSubplot:>"
      ]
     },
     "execution_count": 17,
     "metadata": {},
     "output_type": "execute_result"
    },
    {
     "data": {
      "image/png": "[encoded data removed]",
      "text/plain": [
       "<Figure size 1440x576 with 1 Axes>"
      ]
     },
     "metadata": {
      "needs_background": "light"
     },
     "output_type": "display_data"
    }
   ],
   "source": [
    "plt.figure(figsize=(20,8))\n",
    "df.corr()['label'].sort_values(ascending = False).plot(kind='bar')"
   ]
  },
  {
   "cell_type": "code",
   "execution_count": 18,
   "id": "7dff554b",
   "metadata": {},
   "outputs": [
    {
     "data": {
      "image/png": "[encoded data removed]",
      "text/plain": [
       "<Figure size 432x288 with 2 Axes>"
      ]
     },
     "metadata": {
      "needs_background": "light"
     },
     "output_type": "display_data"
    }
   ],
   "source": [
    "corr = df.corrwith(df['label']).sort_values(ascending = False).to_frame()\n",
    "corr.columns = ['Correlations']\n",
    "sns.heatmap(corr,annot = True,cmap = 'rainbow',linewidths = 0.6,linecolor = 'black');\n",
    "plt.title('Correlation w.r.t Target variable');"
   ]
  },
  {
   "cell_type": "markdown",
   "id": "3c543546",
   "metadata": {},
   "source": [
    "##### Seperating the dependent and independent variables"
   ]
  },
  {
   "cell_type": "code",
   "execution_count": 19,
   "id": "b25c5505",
   "metadata": {},
   "outputs": [],
   "source": [
    "#seperating the x and y variables\n",
    "x = df.drop('label', axis = 1) #independent features  \n",
    "#x = df.iloc[:,:-1]\n",
    "\n",
    "y = df['label'] #dependent features\n",
    "#y = df.iloc[:,-1]"
   ]
  },
  {
   "cell_type": "code",
   "execution_count": 20,
   "id": "0bc58508",
   "metadata": {},
   "outputs": [],
   "source": [
    "#defining a variable named column_name n giving it all the column names expect label\n",
    "column_name = ['time','acc_x', 'acc_y', 'acc_z', 'gyr_x', 'gyr_y', 'gyr_z', 'mag_x','mag_y', 'mag_z']"
   ]
  },
  {
   "cell_type": "markdown",
   "id": "ec95d813",
   "metadata": {},
   "source": [
    "##### Checking for outliers"
   ]
  },
  {
   "cell_type": "code",
   "execution_count": 21,
   "id": "a27cfe0b",
   "metadata": {},
   "outputs": [],
   "source": [
    "# Using a for loop inside a function to get the box plots(seaborn) of all the columns\n",
    "def identify_outliers(give_df_name, give_column_name):\n",
    "    for i in column_name:\n",
    "        fig = plt.figure(figsize=(6,8))\n",
    "        sns.boxplot(data = x, y = i)\n",
    "plt.show()"
   ]
  },
  {
   "cell_type": "code",
   "execution_count": 22,
   "id": "8c0807e6",
   "metadata": {},
   "outputs": [
    {
     "data": {
      "image/png": "[encoded data removed]",
      "text/plain": [
       "<Figure size 432x576 with 1 Axes>"
      ]
     },
     "metadata": {
      "needs_background": "light"
     },
     "output_type": "display_data"
    },
    {
     "data": {
      "image/png": "[encoded data removed]",
      "text/plain": [
       "<Figure size 432x576 with 1 Axes>"
      ]
     },
     "metadata": {
      "needs_background": "light"
     },
     "output_type": "display_data"
    },
    {
     "data": {
      "image/png": "[encoded data removed]",
      "text/plain": [
       "<Figure size 432x576 with 1 Axes>"
      ]
     },
     "metadata": {
      "needs_background": "light"
     },
     "output_type": "display_data"
    },
    {
     "data": {
      "image/png": "[encoded data removed]",
      "text/plain": [
       "<Figure size 432x576 with 1 Axes>"
      ]
     },
     "metadata": {
      "needs_background": "light"
     },
     "output_type": "display_data"
    },
    {
     "data": {
      "image/png": "[encoded data removed]",
      "text/plain": [
       "<Figure size 432x576 with 1 Axes>"
      ]
     },
     "metadata": {
      "needs_background": "light"
     },
     "output_type": "display_data"
    },
    {
     "data": {
      "image/png": "[encoded data removed]",
      "text/plain": [
       "<Figure size 432x576 with 1 Axes>"
      ]
     },
     "metadata": {
      "needs_background": "light"
     },
     "output_type": "display_data"
    },
    {
     "data": {
      "image/png": "[encoded data removed]",
      "text/plain": [
       "<Figure size 432x576 with 1 Axes>"
      ]
     },
     "metadata": {
      "needs_background": "light"
     },
     "output_type": "display_data"
    },
    {
     "data": {
      "image/png": "[encoded data removed]",
      "text/plain": [
       "<Figure size 432x576 with 1 Axes>"
      ]
     },
     "metadata": {
      "needs_background": "light"
     },
     "output_type": "display_data"
    },
    {
     "data": {
      "image/png": "[encoded data removed]",
      "text/plain": [
       "<Figure size 432x576 with 1 Axes>"
      ]
     },
     "metadata": {
      "needs_background": "light"
     },
     "output_type": "display_data"
    },
    {
     "data": {
      "image/png": "[encoded data removed]",
      "text/plain": [
       "<Figure size 432x576 with 1 Axes>"
      ]
     },
     "metadata": {
      "needs_background": "light"
     },
     "output_type": "display_data"
    }
   ],
   "source": [
    "identify_outliers(x, column_name)"
   ]
  },
  {
   "cell_type": "markdown",
   "id": "84259dd0",
   "metadata": {},
   "source": [
    "### 3. Feature Engineering"
   ]
  },
  {
   "cell_type": "markdown",
   "id": "743dbfa4",
   "metadata": {},
   "source": [
    "##### Replacing the outliers with meadian value"
   ]
  },
  {
   "cell_type": "code",
   "execution_count": 23,
   "id": "f89395d2",
   "metadata": {},
   "outputs": [],
   "source": [
    "# Using a for loop inside a function to replace the outliers with median value\n",
    "def replace_outlier(x, column_name):\n",
    "    for i in column_name:\n",
    "        print('column name : ',i)\n",
    "        Q1 = np.percentile(x[i], 25)\n",
    "        Q2 = np.percentile(x[i], 50)\n",
    "        Q3 = np.percentile(x[i], 75)\n",
    "        IQR = Q3 - Q1\n",
    "        print('Q1 =',Q1,'Q2 = ',Q2,'Q3 = ',Q3)\n",
    "\n",
    "        upper_val = Q3 + (1.5 * IQR)\n",
    "        print('upper', upper_val)\n",
    "        lower_val = Q1 - (1.5 * IQR)\n",
    "        print('lower', lower_val)\n",
    "\n",
    "        x.loc[x[i] > upper_val, i] = np.median(x[i])\n",
    "        x.loc[x[i] < lower_val, i] = np.median(x[i])\n",
    "        \n",
    "        fig = plt.figure(figsize = (6,8))\n",
    "        sns.boxplot(data = x,y = i)\n",
    "        plt.xticks(rotation = 'horizontal')\n",
    "        plt.show()"
   ]
  },
  {
   "cell_type": "code",
   "execution_count": 24,
   "id": "b56558fc",
   "metadata": {},
   "outputs": [
    {
     "name": "stdout",
     "output_type": "stream",
     "text": [
      "column name :  time\n",
      "Q1 = 1628105948.0 Q2 =  1628312235.0 Q3 =  1628335043.0\n",
      "upper 1628678685.5\n",
      "lower 1627762305.5\n"
     ]
    },
    {
     "data": {
      "image/png": "[encoded data removed]",
      "text/plain": [
       "<Figure size 432x576 with 1 Axes>"
      ]
     },
     "metadata": {
      "needs_background": "light"
     },
     "output_type": "display_data"
    },
    {
     "name": "stdout",
     "output_type": "stream",
     "text": [
      "column name :  acc_x\n",
      "Q1 = -0.2182617000000001 Q2 =  -0.0249023 Q3 =  0.1616211\n",
      "upper 0.7314453000000001\n",
      "lower -0.7880859000000002\n"
     ]
    },
    {
     "data": {
      "image/png": "[encoded data removed]",
      "text/plain": [
       "<Figure size 432x576 with 1 Axes>"
      ]
     },
     "metadata": {
      "needs_background": "light"
     },
     "output_type": "display_data"
    },
    {
     "name": "stdout",
     "output_type": "stream",
     "text": [
      "column name :  acc_y\n",
      "Q1 = 0.828125 Q2 =  0.9370118 Q3 =  0.9736329\n",
      "upper 1.1918947500000001\n",
      "lower 0.60986315\n"
     ]
    },
    {
     "data": {
      "image/png": "[encoded data removed]",
      "text/plain": [
       "<Figure size 432x576 with 1 Axes>"
      ]
     },
     "metadata": {
      "needs_background": "light"
     },
     "output_type": "display_data"
    },
    {
     "name": "stdout",
     "output_type": "stream",
     "text": [
      "column name :  acc_z\n",
      "Q1 = 0.0317383 Q2 =  0.1230469 Q3 =  0.2006836\n",
      "upper 0.45410154999999996\n",
      "lower -0.22167965\n"
     ]
    },
    {
     "data": {
      "image/png": "[encoded data removed]",
      "text/plain": [
       "<Figure size 432x576 with 1 Axes>"
      ]
     },
     "metadata": {
      "needs_background": "light"
     },
     "output_type": "display_data"
    },
    {
     "name": "stdout",
     "output_type": "stream",
     "text": [
      "column name :  gyr_x\n",
      "Q1 = -2.0141601 Q2 =  0.8544921999999998 Q3 =  3.7231445\n",
      "upper 12.329101399999999\n",
      "lower -10.620116999999999\n"
     ]
    },
    {
     "data": {
      "image/png": "[encoded data removed]",
      "text/plain": [
       "<Figure size 432x576 with 1 Axes>"
      ]
     },
     "metadata": {
      "needs_background": "light"
     },
     "output_type": "display_data"
    },
    {
     "name": "stdout",
     "output_type": "stream",
     "text": [
      "column name :  gyr_y\n",
      "Q1 = -5.6762695 Q2 =  -1.8920898 Q3 =  1.8920898\n",
      "upper 13.24462875\n",
      "lower -17.02880845\n"
     ]
    },
    {
     "data": {
      "image/png": "[encoded data removed]",
      "text/plain": [
       "<Figure size 432x576 with 1 Axes>"
      ]
     },
     "metadata": {
      "needs_background": "light"
     },
     "output_type": "display_data"
    },
    {
     "name": "stdout",
     "output_type": "stream",
     "text": [
      "column name :  gyr_z\n",
      "Q1 = -2.6855469 Q2 =  -0.6103516 Q3 =  1.4648437\n",
      "upper 7.6904296\n",
      "lower -8.911132799999999\n"
     ]
    },
    {
     "data": {
      "image/png": "[encoded data removed]",
      "text/plain": [
       "<Figure size 432x576 with 1 Axes>"
      ]
     },
     "metadata": {
      "needs_background": "light"
     },
     "output_type": "display_data"
    },
    {
     "name": "stdout",
     "output_type": "stream",
     "text": [
      "column name :  mag_x\n",
      "Q1 = -463.5 Q2 =  -253.5 Q3 =  -126.0\n",
      "upper 380.25\n",
      "lower -969.75\n"
     ]
    },
    {
     "data": {
      "image/png": "[encoded data removed]",
      "text/plain": [
       "<Figure size 432x576 with 1 Axes>"
      ]
     },
     "metadata": {
      "needs_background": "light"
     },
     "output_type": "display_data"
    },
    {
     "name": "stdout",
     "output_type": "stream",
     "text": [
      "column name :  mag_y\n",
      "Q1 = -49.5 Q2 =  139.5 Q3 =  979.5\n",
      "upper 2523.0\n",
      "lower -1593.0\n"
     ]
    },
    {
     "data": {
      "image/png": "[encoded data removed]",
      "text/plain": [
       "<Figure size 432x576 with 1 Axes>"
      ]
     },
     "metadata": {
      "needs_background": "light"
     },
     "output_type": "display_data"
    },
    {
     "name": "stdout",
     "output_type": "stream",
     "text": [
      "column name :  mag_z\n",
      "Q1 = 69.0 Q2 =  316.5 Q3 =  552.0\n",
      "upper 1276.5\n",
      "lower -655.5\n"
     ]
    },
    {
     "data": {
      "image/png": "[encoded data removed]",
      "text/plain": [
       "<Figure size 432x576 with 1 Axes>"
      ]
     },
     "metadata": {
      "needs_background": "light"
     },
     "output_type": "display_data"
    }
   ],
   "source": [
    "replace_outlier(x, column_name)"
   ]
  },
  {
   "cell_type": "markdown",
   "id": "bfa8b5f6",
   "metadata": {},
   "source": [
    "##### looking for outliers after imputing with median"
   ]
  },
  {
   "cell_type": "code",
   "execution_count": 25,
   "id": "73e80105",
   "metadata": {},
   "outputs": [
    {
     "data": {
      "image/png": "[encoded data removed]",
      "text/plain": [
       "<Figure size 432x576 with 1 Axes>"
      ]
     },
     "metadata": {
      "needs_background": "light"
     },
     "output_type": "display_data"
    },
    {
     "data": {
      "image/png": "[encoded data removed]",
      "text/plain": [
       "<Figure size 432x576 with 1 Axes>"
      ]
     },
     "metadata": {
      "needs_background": "light"
     },
     "output_type": "display_data"
    },
    {
     "data": {
      "image/png": "[encoded data removed]",
      "text/plain": [
       "<Figure size 432x576 with 1 Axes>"
      ]
     },
     "metadata": {
      "needs_background": "light"
     },
     "output_type": "display_data"
    },
    {
     "data": {
      "image/png": "[encoded data removed]",
      "text/plain": [
       "<Figure size 432x576 with 1 Axes>"
      ]
     },
     "metadata": {
      "needs_background": "light"
     },
     "output_type": "display_data"
    },
    {
     "data": {
      "image/png": "[encoded data removed]",
      "text/plain": [
       "<Figure size 432x576 with 1 Axes>"
      ]
     },
     "metadata": {
      "needs_background": "light"
     },
     "output_type": "display_data"
    },
    {
     "data": {
      "image/png": "[encoded data removed]",
      "text/plain": [
       "<Figure size 432x576 with 1 Axes>"
      ]
     },
     "metadata": {
      "needs_background": "light"
     },
     "output_type": "display_data"
    },
    {
     "data": {
      "image/png": "[encoded data removed]",
      "text/plain": [
       "<Figure size 432x576 with 1 Axes>"
      ]
     },
     "metadata": {
      "needs_background": "light"
     },
     "output_type": "display_data"
    },
    {
     "data": {
      "image/png": "[encoded data removed]",
      "text/plain": [
       "<Figure size 432x576 with 1 Axes>"
      ]
     },
     "metadata": {
      "needs_background": "light"
     },
     "output_type": "display_data"
    },
    {
     "data": {
      "image/png": "[encoded data removed]",
      "text/plain": [
       "<Figure size 432x576 with 1 Axes>"
      ]
     },
     "metadata": {
      "needs_background": "light"
     },
     "output_type": "display_data"
    },
    {
     "data": {
      "image/png": "[encoded data removed]",
      "text/plain": [
       "<Figure size 432x576 with 1 Axes>"
      ]
     },
     "metadata": {
      "needs_background": "light"
     },
     "output_type": "display_data"
    }
   ],
   "source": [
    "identify_outliers(x, column_name)"
   ]
  },
  {
   "cell_type": "markdown",
   "id": "6d5a089f",
   "metadata": {},
   "source": [
    "##### Observation\n",
    "Outliers are now imputed with the median value"
   ]
  },
  {
   "cell_type": "markdown",
   "id": "f465cb33",
   "metadata": {},
   "source": [
    "#### Normalization\n",
    "\n",
    "All three (Acc, Gyr, Mag) gives output in different SI Units i.e The scale for all three are different, so Data must be normalized"
   ]
  },
  {
   "cell_type": "code",
   "execution_count": 26,
   "id": "eec15485",
   "metadata": {},
   "outputs": [
    {
     "data": {
      "text/plain": [
       "array([[0.03725611, 0.3953713 , 0.79278516, ..., 0.32814238, 0.83820565,\n",
       "        0.6369583 ],\n",
       "       [0.03725611, 0.42815819, 0.84060391, ..., 0.32703003, 0.83366935,\n",
       "        0.62714636],\n",
       "       [0.03725611, 0.53712634, 0.76258386, ..., 0.3403782 , 0.83215726,\n",
       "        0.62142273],\n",
       "       ...,\n",
       "       [0.93311879, 0.71681137, 0.51761761, ..., 0.25695217, 0.65272177,\n",
       "        0.47751431],\n",
       "       [0.93311879, 0.71713276, 0.53355714, ..., 0.25806452, 0.66078629,\n",
       "        0.46197874],\n",
       "       [0.93311879, 0.71681137, 0.51761761, ..., 0.24026696, 0.6577621 ,\n",
       "        0.4627964 ]])"
      ]
     },
     "execution_count": 26,
     "metadata": {},
     "output_type": "execute_result"
    }
   ],
   "source": [
    "from sklearn.preprocessing import MinMaxScaler\n",
    "scaling = MinMaxScaler()\n",
    "scaling.fit_transform(x)"
   ]
  },
  {
   "cell_type": "code",
   "execution_count": 27,
   "id": "cb5c3569",
   "metadata": {},
   "outputs": [
    {
     "data": {
      "text/html": [
       "<div>\n",
       "<style scoped>\n",
       "    .dataframe tbody tr th:only-of-type {\n",
       "        vertical-align: middle;\n",
       "    }\n",
       "\n",
       "    .dataframe tbody tr th {\n",
       "        vertical-align: top;\n",
       "    }\n",
       "\n",
       "    .dataframe thead th {\n",
       "        text-align: right;\n",
       "    }\n",
       "</style>\n",
       "<table border=\"1\" class=\"dataframe\">\n",
       "  <thead>\n",
       "    <tr style=\"text-align: right;\">\n",
       "      <th></th>\n",
       "      <th>0</th>\n",
       "      <th>1</th>\n",
       "      <th>2</th>\n",
       "      <th>3</th>\n",
       "      <th>4</th>\n",
       "      <th>5</th>\n",
       "      <th>6</th>\n",
       "      <th>7</th>\n",
       "      <th>8</th>\n",
       "      <th>9</th>\n",
       "    </tr>\n",
       "  </thead>\n",
       "  <tbody>\n",
       "    <tr>\n",
       "      <th>0</th>\n",
       "      <td>0.037256</td>\n",
       "      <td>0.395371</td>\n",
       "      <td>0.792785</td>\n",
       "      <td>0.803907</td>\n",
       "      <td>0.810160</td>\n",
       "      <td>0.5</td>\n",
       "      <td>0.5</td>\n",
       "      <td>0.328142</td>\n",
       "      <td>0.838206</td>\n",
       "      <td>0.636958</td>\n",
       "    </tr>\n",
       "    <tr>\n",
       "      <th>1</th>\n",
       "      <td>0.037256</td>\n",
       "      <td>0.428158</td>\n",
       "      <td>0.840604</td>\n",
       "      <td>0.764834</td>\n",
       "      <td>0.475936</td>\n",
       "      <td>0.5</td>\n",
       "      <td>0.5</td>\n",
       "      <td>0.327030</td>\n",
       "      <td>0.833669</td>\n",
       "      <td>0.627146</td>\n",
       "    </tr>\n",
       "    <tr>\n",
       "      <th>2</th>\n",
       "      <td>0.037256</td>\n",
       "      <td>0.537126</td>\n",
       "      <td>0.762584</td>\n",
       "      <td>0.647612</td>\n",
       "      <td>0.058824</td>\n",
       "      <td>0.5</td>\n",
       "      <td>0.5</td>\n",
       "      <td>0.340378</td>\n",
       "      <td>0.832157</td>\n",
       "      <td>0.621423</td>\n",
       "    </tr>\n",
       "  </tbody>\n",
       "</table>\n",
       "</div>"
      ],
      "text/plain": [
       "          0         1         2         3         4    5    6         7  \\\n",
       "0  0.037256  0.395371  0.792785  0.803907  0.810160  0.5  0.5  0.328142   \n",
       "1  0.037256  0.428158  0.840604  0.764834  0.475936  0.5  0.5  0.327030   \n",
       "2  0.037256  0.537126  0.762584  0.647612  0.058824  0.5  0.5  0.340378   \n",
       "\n",
       "          8         9  \n",
       "0  0.838206  0.636958  \n",
       "1  0.833669  0.627146  \n",
       "2  0.832157  0.621423  "
      ]
     },
     "execution_count": 27,
     "metadata": {},
     "output_type": "execute_result"
    }
   ],
   "source": [
    "x_normalized = pd.DataFrame(scaling.fit_transform(x))\n",
    "x_normalized.head(3)"
   ]
  },
  {
   "cell_type": "code",
   "execution_count": 28,
   "id": "e1ad2750",
   "metadata": {},
   "outputs": [
    {
     "data": {
      "text/html": [
       "<div>\n",
       "<style scoped>\n",
       "    .dataframe tbody tr th:only-of-type {\n",
       "        vertical-align: middle;\n",
       "    }\n",
       "\n",
       "    .dataframe tbody tr th {\n",
       "        vertical-align: top;\n",
       "    }\n",
       "\n",
       "    .dataframe thead th {\n",
       "        text-align: right;\n",
       "    }\n",
       "</style>\n",
       "<table border=\"1\" class=\"dataframe\">\n",
       "  <thead>\n",
       "    <tr style=\"text-align: right;\">\n",
       "      <th></th>\n",
       "      <th>time</th>\n",
       "      <th>acc_x</th>\n",
       "      <th>acc_y</th>\n",
       "      <th>acc_z</th>\n",
       "      <th>gyr_x</th>\n",
       "      <th>gyr_y</th>\n",
       "      <th>gyr_z</th>\n",
       "      <th>mag_x</th>\n",
       "      <th>mag_y</th>\n",
       "      <th>mag_z</th>\n",
       "    </tr>\n",
       "  </thead>\n",
       "  <tbody>\n",
       "    <tr>\n",
       "      <th>0</th>\n",
       "      <td>0.037256</td>\n",
       "      <td>0.395371</td>\n",
       "      <td>0.792785</td>\n",
       "      <td>0.803907</td>\n",
       "      <td>0.810160</td>\n",
       "      <td>0.5</td>\n",
       "      <td>0.5</td>\n",
       "      <td>0.328142</td>\n",
       "      <td>0.838206</td>\n",
       "      <td>0.636958</td>\n",
       "    </tr>\n",
       "    <tr>\n",
       "      <th>1</th>\n",
       "      <td>0.037256</td>\n",
       "      <td>0.428158</td>\n",
       "      <td>0.840604</td>\n",
       "      <td>0.764834</td>\n",
       "      <td>0.475936</td>\n",
       "      <td>0.5</td>\n",
       "      <td>0.5</td>\n",
       "      <td>0.327030</td>\n",
       "      <td>0.833669</td>\n",
       "      <td>0.627146</td>\n",
       "    </tr>\n",
       "    <tr>\n",
       "      <th>2</th>\n",
       "      <td>0.037256</td>\n",
       "      <td>0.537126</td>\n",
       "      <td>0.762584</td>\n",
       "      <td>0.647612</td>\n",
       "      <td>0.058824</td>\n",
       "      <td>0.5</td>\n",
       "      <td>0.5</td>\n",
       "      <td>0.340378</td>\n",
       "      <td>0.832157</td>\n",
       "      <td>0.621423</td>\n",
       "    </tr>\n",
       "  </tbody>\n",
       "</table>\n",
       "</div>"
      ],
      "text/plain": [
       "       time     acc_x     acc_y     acc_z     gyr_x  gyr_y  gyr_z     mag_x  \\\n",
       "0  0.037256  0.395371  0.792785  0.803907  0.810160    0.5    0.5  0.328142   \n",
       "1  0.037256  0.428158  0.840604  0.764834  0.475936    0.5    0.5  0.327030   \n",
       "2  0.037256  0.537126  0.762584  0.647612  0.058824    0.5    0.5  0.340378   \n",
       "\n",
       "      mag_y     mag_z  \n",
       "0  0.838206  0.636958  \n",
       "1  0.833669  0.627146  \n",
       "2  0.832157  0.621423  "
      ]
     },
     "execution_count": 28,
     "metadata": {},
     "output_type": "execute_result"
    }
   ],
   "source": [
    "x_normalized = pd.DataFrame(scaling.fit_transform(x),columns = x.columns)\n",
    "x_normalized.head(3)"
   ]
  },
  {
   "cell_type": "markdown",
   "id": "240b3a53",
   "metadata": {},
   "source": [
    "### Feature Selection\n",
    "#### Selecting KBest Features using chi2"
   ]
  },
  {
   "cell_type": "code",
   "execution_count": 29,
   "id": "efc27655",
   "metadata": {},
   "outputs": [],
   "source": [
    "#select k best\n",
    "from sklearn.feature_selection import SelectKBest\n",
    "from sklearn.feature_selection import chi2"
   ]
  },
  {
   "cell_type": "code",
   "execution_count": 30,
   "id": "3f9d0e3d",
   "metadata": {},
   "outputs": [
    {
     "name": "stdout",
     "output_type": "stream",
     "text": [
      "  features        k_score\n",
      "0     time  551696.294963\n",
      "1    acc_x  150058.553659\n",
      "7    mag_x  106664.110641\n",
      "8    mag_y   67694.199464\n",
      "3    acc_z   43636.740650\n",
      "2    acc_y   36914.462173\n"
     ]
    }
   ],
   "source": [
    "#ranking the features\n",
    "select_k_best_rank_features = SelectKBest(score_func = chi2, k = 5)\n",
    "k_best_features = select_k_best_rank_features.fit(x_normalized,y)\n",
    "\n",
    "df_k_scores = pd.DataFrame(k_best_features.scores_, columns = ['score'])\n",
    "dfcolumns = pd.DataFrame(x_normalized.columns)\n",
    "\n",
    "k_best_feature_rank = pd.concat([dfcolumns, df_k_scores], axis = 1)\n",
    "\n",
    "k_best_feature_rank.columns = ('features', 'k_score')\n",
    "print(k_best_feature_rank.nlargest(6, 'k_score'))"
   ]
  },
  {
   "cell_type": "markdown",
   "id": "f2017e16",
   "metadata": {},
   "source": [
    "##### Observation:\n",
    "* From chi2 we see that the top 6 features are time, acc_x, mag_x, mag_y, acc_z, acc_y"
   ]
  },
  {
   "cell_type": "markdown",
   "id": "aa3e3fab",
   "metadata": {},
   "source": [
    "#### Creating a new dataframe with x_normalized and y values/"
   ]
  },
  {
   "cell_type": "code",
   "execution_count": 32,
   "id": "c6925de0",
   "metadata": {},
   "outputs": [
    {
     "data": {
      "text/html": [
       "<div>\n",
       "<style scoped>\n",
       "    .dataframe tbody tr th:only-of-type {\n",
       "        vertical-align: middle;\n",
       "    }\n",
       "\n",
       "    .dataframe tbody tr th {\n",
       "        vertical-align: top;\n",
       "    }\n",
       "\n",
       "    .dataframe thead th {\n",
       "        text-align: right;\n",
       "    }\n",
       "</style>\n",
       "<table border=\"1\" class=\"dataframe\">\n",
       "  <thead>\n",
       "    <tr style=\"text-align: right;\">\n",
       "      <th></th>\n",
       "      <th>time</th>\n",
       "      <th>acc_x</th>\n",
       "      <th>acc_y</th>\n",
       "      <th>acc_z</th>\n",
       "      <th>gyr_x</th>\n",
       "      <th>gyr_y</th>\n",
       "      <th>gyr_z</th>\n",
       "      <th>mag_x</th>\n",
       "      <th>mag_y</th>\n",
       "      <th>mag_z</th>\n",
       "      <th>label</th>\n",
       "    </tr>\n",
       "  </thead>\n",
       "  <tbody>\n",
       "    <tr>\n",
       "      <th>0</th>\n",
       "      <td>0.037256</td>\n",
       "      <td>0.395371</td>\n",
       "      <td>0.792785</td>\n",
       "      <td>0.803907</td>\n",
       "      <td>0.810160</td>\n",
       "      <td>0.500000</td>\n",
       "      <td>0.500000</td>\n",
       "      <td>0.328142</td>\n",
       "      <td>0.838206</td>\n",
       "      <td>0.636958</td>\n",
       "      <td>2</td>\n",
       "    </tr>\n",
       "    <tr>\n",
       "      <th>1</th>\n",
       "      <td>0.037256</td>\n",
       "      <td>0.428158</td>\n",
       "      <td>0.840604</td>\n",
       "      <td>0.764834</td>\n",
       "      <td>0.475936</td>\n",
       "      <td>0.500000</td>\n",
       "      <td>0.500000</td>\n",
       "      <td>0.327030</td>\n",
       "      <td>0.833669</td>\n",
       "      <td>0.627146</td>\n",
       "      <td>2</td>\n",
       "    </tr>\n",
       "    <tr>\n",
       "      <th>2</th>\n",
       "      <td>0.037256</td>\n",
       "      <td>0.537126</td>\n",
       "      <td>0.762584</td>\n",
       "      <td>0.647612</td>\n",
       "      <td>0.058824</td>\n",
       "      <td>0.500000</td>\n",
       "      <td>0.500000</td>\n",
       "      <td>0.340378</td>\n",
       "      <td>0.832157</td>\n",
       "      <td>0.621423</td>\n",
       "      <td>2</td>\n",
       "    </tr>\n",
       "    <tr>\n",
       "      <th>3</th>\n",
       "      <td>0.037256</td>\n",
       "      <td>0.618451</td>\n",
       "      <td>0.603188</td>\n",
       "      <td>0.633864</td>\n",
       "      <td>0.500000</td>\n",
       "      <td>0.500000</td>\n",
       "      <td>0.837037</td>\n",
       "      <td>0.325918</td>\n",
       "      <td>0.835181</td>\n",
       "      <td>0.627964</td>\n",
       "      <td>2</td>\n",
       "    </tr>\n",
       "    <tr>\n",
       "      <th>4</th>\n",
       "      <td>0.037256</td>\n",
       "      <td>0.631308</td>\n",
       "      <td>0.469799</td>\n",
       "      <td>0.693922</td>\n",
       "      <td>0.459893</td>\n",
       "      <td>0.500000</td>\n",
       "      <td>0.374074</td>\n",
       "      <td>0.328142</td>\n",
       "      <td>0.832661</td>\n",
       "      <td>0.632870</td>\n",
       "      <td>2</td>\n",
       "    </tr>\n",
       "    <tr>\n",
       "      <th>...</th>\n",
       "      <td>...</td>\n",
       "      <td>...</td>\n",
       "      <td>...</td>\n",
       "      <td>...</td>\n",
       "      <td>...</td>\n",
       "      <td>...</td>\n",
       "      <td>...</td>\n",
       "      <td>...</td>\n",
       "      <td>...</td>\n",
       "      <td>...</td>\n",
       "      <td>...</td>\n",
       "    </tr>\n",
       "    <tr>\n",
       "      <th>12263519</th>\n",
       "      <td>0.933119</td>\n",
       "      <td>0.713918</td>\n",
       "      <td>0.513423</td>\n",
       "      <td>0.762663</td>\n",
       "      <td>0.462567</td>\n",
       "      <td>0.497976</td>\n",
       "      <td>0.751852</td>\n",
       "      <td>0.241379</td>\n",
       "      <td>0.651210</td>\n",
       "      <td>0.467702</td>\n",
       "      <td>4</td>\n",
       "    </tr>\n",
       "    <tr>\n",
       "      <th>12263520</th>\n",
       "      <td>0.933119</td>\n",
       "      <td>0.715204</td>\n",
       "      <td>0.525168</td>\n",
       "      <td>0.764110</td>\n",
       "      <td>0.489305</td>\n",
       "      <td>0.475709</td>\n",
       "      <td>0.692593</td>\n",
       "      <td>0.245829</td>\n",
       "      <td>0.658770</td>\n",
       "      <td>0.475061</td>\n",
       "      <td>4</td>\n",
       "    </tr>\n",
       "    <tr>\n",
       "      <th>12263521</th>\n",
       "      <td>0.933119</td>\n",
       "      <td>0.716811</td>\n",
       "      <td>0.517618</td>\n",
       "      <td>0.765557</td>\n",
       "      <td>0.508021</td>\n",
       "      <td>0.471660</td>\n",
       "      <td>0.725926</td>\n",
       "      <td>0.256952</td>\n",
       "      <td>0.652722</td>\n",
       "      <td>0.477514</td>\n",
       "      <td>4</td>\n",
       "    </tr>\n",
       "    <tr>\n",
       "      <th>12263522</th>\n",
       "      <td>0.933119</td>\n",
       "      <td>0.717133</td>\n",
       "      <td>0.533557</td>\n",
       "      <td>0.749638</td>\n",
       "      <td>0.550802</td>\n",
       "      <td>0.467611</td>\n",
       "      <td>0.759259</td>\n",
       "      <td>0.258065</td>\n",
       "      <td>0.660786</td>\n",
       "      <td>0.461979</td>\n",
       "      <td>4</td>\n",
       "    </tr>\n",
       "    <tr>\n",
       "      <th>12263523</th>\n",
       "      <td>0.933119</td>\n",
       "      <td>0.716811</td>\n",
       "      <td>0.517618</td>\n",
       "      <td>0.756150</td>\n",
       "      <td>0.502674</td>\n",
       "      <td>0.485830</td>\n",
       "      <td>0.711111</td>\n",
       "      <td>0.240267</td>\n",
       "      <td>0.657762</td>\n",
       "      <td>0.462796</td>\n",
       "      <td>4</td>\n",
       "    </tr>\n",
       "  </tbody>\n",
       "</table>\n",
       "<p>12263524 rows × 11 columns</p>\n",
       "</div>"
      ],
      "text/plain": [
       "              time     acc_x     acc_y     acc_z     gyr_x     gyr_y  \\\n",
       "0         0.037256  0.395371  0.792785  0.803907  0.810160  0.500000   \n",
       "1         0.037256  0.428158  0.840604  0.764834  0.475936  0.500000   \n",
       "2         0.037256  0.537126  0.762584  0.647612  0.058824  0.500000   \n",
       "3         0.037256  0.618451  0.603188  0.633864  0.500000  0.500000   \n",
       "4         0.037256  0.631308  0.469799  0.693922  0.459893  0.500000   \n",
       "...            ...       ...       ...       ...       ...       ...   \n",
       "12263519  0.933119  0.713918  0.513423  0.762663  0.462567  0.497976   \n",
       "12263520  0.933119  0.715204  0.525168  0.764110  0.489305  0.475709   \n",
       "12263521  0.933119  0.716811  0.517618  0.765557  0.508021  0.471660   \n",
       "12263522  0.933119  0.717133  0.533557  0.749638  0.550802  0.467611   \n",
       "12263523  0.933119  0.716811  0.517618  0.756150  0.502674  0.485830   \n",
       "\n",
       "             gyr_z     mag_x     mag_y     mag_z  label  \n",
       "0         0.500000  0.328142  0.838206  0.636958      2  \n",
       "1         0.500000  0.327030  0.833669  0.627146      2  \n",
       "2         0.500000  0.340378  0.832157  0.621423      2  \n",
       "3         0.837037  0.325918  0.835181  0.627964      2  \n",
       "4         0.374074  0.328142  0.832661  0.632870      2  \n",
       "...            ...       ...       ...       ...    ...  \n",
       "12263519  0.751852  0.241379  0.651210  0.467702      4  \n",
       "12263520  0.692593  0.245829  0.658770  0.475061      4  \n",
       "12263521  0.725926  0.256952  0.652722  0.477514      4  \n",
       "12263522  0.759259  0.258065  0.660786  0.461979      4  \n",
       "12263523  0.711111  0.240267  0.657762  0.462796      4  \n",
       "\n",
       "[12263524 rows x 11 columns]"
      ]
     },
     "execution_count": 32,
     "metadata": {},
     "output_type": "execute_result"
    }
   ],
   "source": [
    "new_df = x_normalized\n",
    "new_df['label'] = y.values\n",
    "new_df"
   ]
  },
  {
   "cell_type": "markdown",
   "id": "21c52eff",
   "metadata": {},
   "source": [
    "### 4. Modeling"
   ]
  },
  {
   "cell_type": "markdown",
   "id": "ccdb5a59",
   "metadata": {},
   "source": [
    "#### As the Dataset is quite huge, \n",
    "##### i. lets take sample data from population data\n",
    "##### ii. build a differnt model on each sample\n",
    "##### iii. check which model gives good results "
   ]
  },
  {
   "cell_type": "markdown",
   "id": "98eed830",
   "metadata": {},
   "source": [
    "### Sample 1 - df1 - Logistic Regression"
   ]
  },
  {
   "cell_type": "code",
   "execution_count": 33,
   "id": "1efdada1",
   "metadata": {},
   "outputs": [
    {
     "data": {
      "text/plain": [
       "(40000, 11)"
      ]
     },
     "execution_count": 33,
     "metadata": {},
     "output_type": "execute_result"
    }
   ],
   "source": [
    "# taking a sample of 40,000\n",
    "import random\n",
    "df1 = new_df.sample(40000)\n",
    "df1.shape"
   ]
  },
  {
   "cell_type": "code",
   "execution_count": 34,
   "id": "69afbd50",
   "metadata": {},
   "outputs": [
    {
     "data": {
      "text/plain": [
       "1    11212\n",
       "4     8254\n",
       "7     6168\n",
       "5     5575\n",
       "6     5549\n",
       "9     1404\n",
       "8     1204\n",
       "3      458\n",
       "2      176\n",
       "Name: label, dtype: int64"
      ]
     },
     "execution_count": 34,
     "metadata": {},
     "output_type": "execute_result"
    }
   ],
   "source": [
    "df1['label'].value_counts()"
   ]
  },
  {
   "cell_type": "code",
   "execution_count": 35,
   "id": "f1d98cda",
   "metadata": {},
   "outputs": [
    {
     "data": {
      "image/png": "[encoded data removed]",
      "text/plain": [
       "<Figure size 432x288 with 1 Axes>"
      ]
     },
     "metadata": {},
     "output_type": "display_data"
    }
   ],
   "source": [
    "#distribution of sample df1\n",
    "plt.pie(df1['label'].value_counts(), autopct = '%1.1f%%');"
   ]
  },
  {
   "cell_type": "code",
   "execution_count": 36,
   "id": "51707d4c",
   "metadata": {},
   "outputs": [],
   "source": [
    "#importing libraries \n",
    "from sklearn.model_selection import train_test_split\n",
    "from sklearn.metrics import confusion_matrix\n",
    "from sklearn.metrics import roc_auc_score\n",
    "from sklearn.metrics import plot_roc_curve\n",
    "from sklearn.model_selection import cross_val_score\n",
    "from sklearn.metrics import classification_report\n",
    "from sklearn.metrics import accuracy_score\n",
    "from sklearn.model_selection import RepeatedStratifiedKFold\n",
    "from sklearn.metrics import precision_recall_curve\n",
    "from sklearn.metrics import f1_score\n",
    "from sklearn.metrics import precision_score, recall_score\n",
    "\n",
    "#for confusion matrix\n",
    "import scikitplot as skplot\n",
    "\n",
    "# for smote\n",
    "import imblearn\n",
    "from collections import Counter\n",
    "from imblearn.over_sampling import SMOTE"
   ]
  },
  {
   "cell_type": "markdown",
   "id": "3b26c67e",
   "metadata": {},
   "source": [
    "Data Balancing using SMOTE :\n",
    "In order to cope with imbalanced data, there are 2 options :\n",
    "\n",
    "Undersampling : Trim down the majority samples of the target variable.\n",
    "\n",
    "Oversampling : Increase the minority samples of the target variable to the majority samples.\n",
    "we have decided to go with oversampling beacuse we might lose data if we do undersampling\n",
    "\n",
    "For data balancing, we will use imblearn.\n",
    "\n",
    "pip statement : !pip install imbalanced-learn"
   ]
  },
  {
   "cell_type": "code",
   "execution_count": 37,
   "id": "3cc12b6c",
   "metadata": {},
   "outputs": [],
   "source": [
    "# Splitting x and y variables\n",
    "x1 = df1[['time' ,'acc_x', 'mag_x', 'mag_y', 'acc_z', 'acc_y']] #independent features\n",
    "y1 = df1['label'] #dependent features"
   ]
  },
  {
   "cell_type": "markdown",
   "id": "69ac7a7d",
   "metadata": {},
   "source": [
    "Taking only the 6 best features we got from chi2 "
   ]
  },
  {
   "cell_type": "code",
   "execution_count": 38,
   "id": "127662c3",
   "metadata": {},
   "outputs": [
    {
     "name": "stdout",
     "output_type": "stream",
     "text": [
      "(40000, 6) (40000,)\n"
     ]
    }
   ],
   "source": [
    "print(x1.shape, y1.shape)"
   ]
  },
  {
   "cell_type": "code",
   "execution_count": 39,
   "id": "cbf75797",
   "metadata": {},
   "outputs": [
    {
     "name": "stdout",
     "output_type": "stream",
     "text": [
      "(28000, 6) (28000,) (12000, 6)\n",
      "Classes and number of values in trainset before SMOTE: Counter({1: 7831, 4: 5782, 7: 4304, 5: 3913, 6: 3882, 9: 984, 8: 850, 3: 321, 2: 133}) \n",
      "\n",
      "Classes and number of values in trainset after SMOTE: Counter({4: 7831, 5: 7831, 1: 7831, 7: 7831, 6: 7831, 8: 7831, 3: 7831, 9: 7831, 2: 7831}) \n",
      "\n",
      "model.predict : [2 1 4 ... 4 4 6]\n",
      "model.score : 0.3597951162757701\n",
      "Accuracy :  0.31875\n",
      "Cross Validation scores : [0.419875 0.42225  0.429125 0.41875  0.422125]\n",
      "Mean cv : 42.24249999999999\n"
     ]
    }
   ],
   "source": [
    "#splitting the data\n",
    "x1_train, x1_test, y1_train, y1_test = train_test_split(x1, y1, test_size = 0.3, random_state = 0)\n",
    "print(x1_train.shape, y1_train.shape, x1_test.shape)\n",
    "print('Classes and number of values in trainset before SMOTE:',Counter(y1_train),'\\n')\n",
    "\n",
    "# applying smote to handle imbalance in the target variable\n",
    "from imblearn.over_sampling import SMOTE\n",
    "oversample = SMOTE()\n",
    "x1_train,y1_train = oversample.fit_resample(x1_train,y1_train)\n",
    "print('Classes and number of values in trainset after SMOTE:',Counter(y1_train),'\\n')\n",
    "\n",
    "# importing Logistic Regression\n",
    "from sklearn.linear_model import LogisticRegression\n",
    "classifier_lr = LogisticRegression(random_state = 1000, multi_class = 'multinomial',penalty='none')\n",
    "\n",
    "#fitting the logistic regression model to x1_train and y1_train\n",
    "classifier_lr.fit(x1_train, y1_train)\n",
    "y1_pred = classifier_lr.predict(x1_test)\n",
    "print('model.predict :',y1_pred)\n",
    "print('model.score :', classifier_lr.score(x1_train, y1_train))\n",
    "\n",
    "#accuracy_score\n",
    "from sklearn.metrics import accuracy_score\n",
    "accuracy_lr = accuracy_score(y1_test, y1_pred)\n",
    "print('Accuracy : ',accuracy_lr)\n",
    "\n",
    "from sklearn.model_selection import cross_val_score\n",
    "cv_scores_lr = cross_val_score(classifier_lr, x1, y1, cv=5)\n",
    "print('Cross Validation scores :', cv_scores_lr)\n",
    "\n",
    "mean_cv_lr = (np.mean(cv_scores_lr))*100\n",
    "print('Mean cv :',mean_cv_lr)"
   ]
  },
  {
   "cell_type": "code",
   "execution_count": 40,
   "id": "6e34f256",
   "metadata": {},
   "outputs": [
    {
     "name": "stdout",
     "output_type": "stream",
     "text": [
      "F1-score (average = weighted): 0.33\n",
      "Precision (average = weighted): 0.44\n",
      "Recall (average = weighted): 0.32\n"
     ]
    }
   ],
   "source": [
    "#f1_score\n",
    "f1_score_lr = f1_score(y1_test, y1_pred, average='weighted')\n",
    "print('F1-score (average = weighted): {:.2f}'.format(f1_score_lr))\n",
    "\n",
    "#precision\n",
    "precision_score_lr = precision_score(y1_test, y1_pred, average='weighted')\n",
    "print('Precision (average = weighted): {:.2f}'.format(precision_score_lr))\n",
    "\n",
    "#recall\n",
    "recall_score_lr = recall_score(y1_test, y1_pred, average='weighted')\n",
    "print('Recall (average = weighted): {:.2f}'.format(recall_score_lr))"
   ]
  },
  {
   "cell_type": "markdown",
   "id": "fc246d25",
   "metadata": {},
   "source": [
    "1. F1 score\n",
    "average = 'weighted':\n",
    "Calculate metrics for each label, and find their average weighted by support (the number of true instances for each label). This alters ‘macro’ to account for label imbalance; it can result in an F-score that is not between precision and recall.\n",
    "\n",
    "2. precison\n",
    "average = 'weighted'\n",
    "Calculate metrics for each label, and find their average weighted by support (the number of true instances for each label). This alters ‘macro’ to account for label imbalance; it can result in an F-score that is not between precision and recall.\n",
    "\n",
    "3. recall\n",
    "average = 'weighted'\n",
    "Calculate metrics for each label, and find their average weighted by support (the number of true instances for each label). This alters ‘macro’ to account for label imbalance; it can result in an F-score that is not between precision and recall. Weighted recall is equal to accuracy."
   ]
  },
  {
   "cell_type": "markdown",
   "id": "e9d0b944",
   "metadata": {},
   "source": [
    "### Sample 2 - df2 - Decision Tree Classifier"
   ]
  },
  {
   "cell_type": "code",
   "execution_count": 41,
   "id": "2344e592",
   "metadata": {},
   "outputs": [
    {
     "data": {
      "text/plain": [
       "(40000, 11)"
      ]
     },
     "execution_count": 41,
     "metadata": {},
     "output_type": "execute_result"
    }
   ],
   "source": [
    "# taking a sample of 40,000\n",
    "import random\n",
    "df2 = new_df.sample(40000)\n",
    "df2.shape"
   ]
  },
  {
   "cell_type": "code",
   "execution_count": 42,
   "id": "605e80a7",
   "metadata": {},
   "outputs": [
    {
     "data": {
      "text/plain": [
       "1    11172\n",
       "4     8331\n",
       "7     6244\n",
       "6     5566\n",
       "5     5494\n",
       "9     1295\n",
       "8     1227\n",
       "3      474\n",
       "2      197\n",
       "Name: label, dtype: int64"
      ]
     },
     "execution_count": 42,
     "metadata": {},
     "output_type": "execute_result"
    }
   ],
   "source": [
    "df2['label'].value_counts()"
   ]
  },
  {
   "cell_type": "code",
   "execution_count": 43,
   "id": "a4dc961f",
   "metadata": {},
   "outputs": [
    {
     "data": {
      "image/png": "[encoded data removed]",
      "text/plain": [
       "<Figure size 432x288 with 1 Axes>"
      ]
     },
     "metadata": {},
     "output_type": "display_data"
    }
   ],
   "source": [
    "#distribution of sample df2\n",
    "plt.pie(df2['label'].value_counts(), autopct = '%1.1f%%');"
   ]
  },
  {
   "cell_type": "code",
   "execution_count": 44,
   "id": "a34c89c4",
   "metadata": {},
   "outputs": [
    {
     "name": "stdout",
     "output_type": "stream",
     "text": [
      "(40000, 6) (40000,)\n"
     ]
    }
   ],
   "source": [
    "# Splitting x and y variables\n",
    "x2 = df2[['time' ,'acc_x', 'mag_x', 'mag_y', 'acc_z', 'acc_y']] #independent features\n",
    "y2 = df2['label'] #dependent features\n",
    "print(x2.shape, y2.shape)"
   ]
  },
  {
   "cell_type": "code",
   "execution_count": 45,
   "id": "942faf25",
   "metadata": {},
   "outputs": [
    {
     "name": "stdout",
     "output_type": "stream",
     "text": [
      "(28000, 6) (28000,) (12000, 6)\n",
      "Classes and number of values in trainset before SMOTE: Counter({1: 7876, 4: 5817, 7: 4356, 6: 3877, 5: 3863, 9: 897, 8: 835, 3: 338, 2: 141}) \n",
      "\n",
      "Classes and number of values in trainset after SMOTE: Counter({1: 7876, 5: 7876, 7: 7876, 4: 7876, 3: 7876, 6: 7876, 8: 7876, 9: 7876, 2: 7876}) \n",
      "\n",
      "model.predict : [1 4 1 ... 9 7 7]\n",
      "model.score : 0.9457987698211162\n",
      "Accuracy :  0.8805833333333334\n",
      "Cross Validation scores : [0.939    0.933625 0.936375 0.93625  0.9395  ]\n",
      "Mean cv : 93.69500000000001\n"
     ]
    }
   ],
   "source": [
    "#splitting the data\n",
    "x2_train, x2_test, y2_train, y2_test = train_test_split(x2, y2, test_size = 0.3, random_state = 0)\n",
    "print(x2_train.shape, y2_train.shape, x2_test.shape)\n",
    "print('Classes and number of values in trainset before SMOTE:',Counter(y2_train),'\\n')\n",
    "\n",
    "#smote\n",
    "from imblearn.over_sampling import SMOTE\n",
    "oversample = SMOTE()\n",
    "x2_train,y2_train = oversample.fit_resample(x2_train,y2_train)\n",
    "print('Classes and number of values in trainset after SMOTE:',Counter(y2_train),'\\n')\n",
    "\n",
    "#importing Decision Trees\n",
    "from sklearn.tree import DecisionTreeClassifier\n",
    "classifier_dtc = DecisionTreeClassifier(random_state=1000,max_depth=15,min_samples_leaf = 1)\n",
    "\n",
    "classifier_dtc.fit(x2_train, y2_train)\n",
    "y2_pred = classifier_dtc.predict(x2_test)\n",
    "print('model.predict :',y2_pred)\n",
    "print('model.score :', classifier_dtc.score(x2_train, y2_train))\n",
    "\n",
    "from sklearn.metrics import accuracy_score\n",
    "accuracy_dtc = accuracy_score(y2_test, y2_pred)\n",
    "print('Accuracy : ',accuracy_dtc)\n",
    "\n",
    "from sklearn.model_selection import cross_val_score\n",
    "cv_scores_dtc = cross_val_score(classifier_dtc, x2, y2, cv=5)\n",
    "print('Cross Validation scores :', cv_scores_dtc)\n",
    "\n",
    "mean_cv_dtc = (np.mean(cv_scores_dtc))*100\n",
    "print('Mean cv :',mean_cv_dtc)"
   ]
  },
  {
   "cell_type": "code",
   "execution_count": 46,
   "id": "248e7bbe",
   "metadata": {},
   "outputs": [
    {
     "name": "stdout",
     "output_type": "stream",
     "text": [
      "F1-score (average = weighted): 0.89\n",
      "Precision (average = weighted): 0.90\n",
      "Recall (average = weighted): 0.88\n"
     ]
    }
   ],
   "source": [
    "f1_score_dtc = f1_score(y2_test, y2_pred, average='weighted')\n",
    "print('F1-score (average = weighted): {:.2f}'.format(f1_score_dtc))\n",
    "\n",
    "precision_score_dtc = precision_score(y2_test, y2_pred, average='weighted')\n",
    "print('Precision (average = weighted): {:.2f}'.format(precision_score_dtc))\n",
    "\n",
    "recall_score_dtc = recall_score(y2_test, y2_pred, average='weighted')\n",
    "print('Recall (average = weighted): {:.2f}'.format(recall_score_dtc))"
   ]
  },
  {
   "cell_type": "markdown",
   "id": "76d2f461",
   "metadata": {},
   "source": [
    "### Sample 3 - df3 - Random Forest Classifier"
   ]
  },
  {
   "cell_type": "code",
   "execution_count": 47,
   "id": "d8aa0457",
   "metadata": {},
   "outputs": [],
   "source": [
    "import random\n",
    "df3 = new_df.sample(40000)"
   ]
  },
  {
   "cell_type": "code",
   "execution_count": 48,
   "id": "35382ce8",
   "metadata": {},
   "outputs": [
    {
     "data": {
      "text/plain": [
       "1    11128\n",
       "4     8311\n",
       "7     6381\n",
       "5     5578\n",
       "6     5498\n",
       "8     1236\n",
       "9     1231\n",
       "3      469\n",
       "2      168\n",
       "Name: label, dtype: int64"
      ]
     },
     "execution_count": 48,
     "metadata": {},
     "output_type": "execute_result"
    }
   ],
   "source": [
    "df3['label'].value_counts()"
   ]
  },
  {
   "cell_type": "code",
   "execution_count": 75,
   "id": "c4ec0eb2",
   "metadata": {},
   "outputs": [
    {
     "data": {
      "image/png": "[encoded data removed]",
      "text/plain": [
       "<Figure size 432x288 with 1 Axes>"
      ]
     },
     "metadata": {},
     "output_type": "display_data"
    }
   ],
   "source": [
    "#distribution of sample df3\n",
    "plt.pie(df3['label'].value_counts(), autopct = '%1.1f%%');"
   ]
  },
  {
   "cell_type": "code",
   "execution_count": 49,
   "id": "5336a661",
   "metadata": {},
   "outputs": [
    {
     "name": "stdout",
     "output_type": "stream",
     "text": [
      "(40000, 6) (40000,)\n"
     ]
    }
   ],
   "source": [
    "# Splitting x and y variables\n",
    "x3 = df3[['time' ,'acc_x', 'mag_x', 'mag_y', 'acc_z', 'acc_y']] #independent features\n",
    "y3 = df3['label'] #dependent features\n",
    "print(x3.shape, y3.shape)"
   ]
  },
  {
   "cell_type": "code",
   "execution_count": 50,
   "id": "fde27b38",
   "metadata": {},
   "outputs": [
    {
     "name": "stdout",
     "output_type": "stream",
     "text": [
      "Classes and number of values in trainset before SMOTE: Counter({1: 7823, 4: 5839, 7: 4488, 5: 3878, 6: 3823, 8: 876, 9: 848, 3: 311, 2: 114}) \n",
      "\n",
      "Classes and number of values in trainset after SMOTE: Counter({9: 7823, 7: 7823, 6: 7823, 4: 7823, 5: 7823, 1: 7823, 8: 7823, 3: 7823, 2: 7823}) \n",
      "\n",
      "model.predict : [8 4 5 ... 4 4 4]\n",
      "model.score : 0.9998721718010993\n",
      "Accuracy :  0.92075\n",
      "Cross Validation scores : [0.936875 0.937125 0.94125  0.94425  0.9305  ]\n",
      "Mean Accuracy : 93.80000000000001\n"
     ]
    }
   ],
   "source": [
    "#splitting the data\n",
    "x3_train, x3_test, y3_train, y3_test = train_test_split(x3, y3, test_size = 0.3, random_state = 0)\n",
    "print('Classes and number of values in trainset before SMOTE:',Counter(y3_train),'\\n')\n",
    "\n",
    "#smote\n",
    "from imblearn.over_sampling import SMOTE\n",
    "oversample = SMOTE()\n",
    "x3_train,y3_train = oversample.fit_resample(x3_train,y3_train)\n",
    "print('Classes and number of values in trainset after SMOTE:',Counter(y3_train),'\\n')\n",
    "\n",
    "#import random forest\n",
    "from sklearn.ensemble import RandomForestClassifier\n",
    "classifier_rf = RandomForestClassifier(n_estimators=20, random_state=23)\n",
    "\n",
    "classifier_rf.fit(x3_train, y3_train)\n",
    "y3_pred = classifier_rf.predict(x3_test)\n",
    "print('model.predict :',y3_pred)\n",
    "print('model.score :', classifier_rf.score(x3_train, y3_train))\n",
    "\n",
    "from sklearn.metrics import accuracy_score\n",
    "accuracy_rf = accuracy_score(y3_test, y3_pred)\n",
    "print('Accuracy : ',accuracy_rf)\n",
    "\n",
    "from sklearn.model_selection import cross_val_score\n",
    "cv_scores_rf = cross_val_score(classifier_rf, x3, y3, cv=5)\n",
    "print('Cross Validation scores :', cv_scores_rf)\n",
    "\n",
    "mean_accuracy_rf = (np.mean(cv_scores_rf))*100\n",
    "print('Mean Accuracy :',mean_accuracy_rf)"
   ]
  },
  {
   "cell_type": "code",
   "execution_count": 51,
   "id": "5d1f41a1",
   "metadata": {},
   "outputs": [
    {
     "name": "stdout",
     "output_type": "stream",
     "text": [
      "F1-score (average = weighted): 0.92\n",
      "Precision (average = weighted): 0.92\n",
      "Recall (average = weighted): 0.92\n"
     ]
    }
   ],
   "source": [
    "f1_score_rf = f1_score(y3_test, y3_pred, average='weighted')\n",
    "print('F1-score (average = weighted): {:.2f}'.format(f1_score_rf))\n",
    "\n",
    "precision_score_rf = precision_score(y3_test, y3_pred, average='weighted')\n",
    "print('Precision (average = weighted): {:.2f}'.format(precision_score_rf))\n",
    "\n",
    "recall_score_rf = recall_score(y3_test, y3_pred, average='weighted')\n",
    "print('Recall (average = weighted): {:.2f}'.format(recall_score_rf))"
   ]
  },
  {
   "cell_type": "markdown",
   "id": "18318321",
   "metadata": {},
   "source": [
    "### Sample 4 - df4 - Support Vector Classifier"
   ]
  },
  {
   "cell_type": "code",
   "execution_count": 52,
   "id": "9516f511",
   "metadata": {},
   "outputs": [],
   "source": [
    "import random\n",
    "df4 = new_df.sample(40000)"
   ]
  },
  {
   "cell_type": "code",
   "execution_count": 53,
   "id": "03a8c808",
   "metadata": {},
   "outputs": [
    {
     "data": {
      "text/plain": [
       "1    10993\n",
       "4     8368\n",
       "7     6357\n",
       "6     5586\n",
       "5     5580\n",
       "9     1320\n",
       "8     1129\n",
       "3      482\n",
       "2      185\n",
       "Name: label, dtype: int64"
      ]
     },
     "execution_count": 53,
     "metadata": {},
     "output_type": "execute_result"
    }
   ],
   "source": [
    "df4['label'].value_counts()"
   ]
  },
  {
   "cell_type": "code",
   "execution_count": 76,
   "id": "0fea78b5",
   "metadata": {},
   "outputs": [
    {
     "data": {
      "image/png": "[encoded data removed]",
      "text/plain": [
       "<Figure size 432x288 with 1 Axes>"
      ]
     },
     "metadata": {},
     "output_type": "display_data"
    }
   ],
   "source": [
    "#distribution of sample df4\n",
    "plt.pie(df4['label'].value_counts(), autopct = '%1.1f%%');"
   ]
  },
  {
   "cell_type": "code",
   "execution_count": 54,
   "id": "79dbd12c",
   "metadata": {},
   "outputs": [
    {
     "name": "stdout",
     "output_type": "stream",
     "text": [
      "(40000, 6) (40000,)\n"
     ]
    }
   ],
   "source": [
    "# Splitting x and y variables\n",
    "x4 = df4[['time' ,'acc_x', 'mag_x', 'mag_y', 'acc_z', 'acc_y']] #independent features\n",
    "y4 = df4['label'] #dependent features\n",
    "print(x4.shape, y4.shape)"
   ]
  },
  {
   "cell_type": "code",
   "execution_count": 55,
   "id": "b64e313f",
   "metadata": {
    "scrolled": true
   },
   "outputs": [
    {
     "name": "stdout",
     "output_type": "stream",
     "text": [
      "Classes and number of values in trainset before SMOTE: Counter({1: 7670, 4: 5866, 7: 4485, 5: 3906, 6: 3892, 9: 925, 8: 783, 3: 339, 2: 134}) \n",
      "\n",
      "Classes and number of values in trainset after SMOTE: Counter({1: 7670, 4: 7670, 7: 7670, 6: 7670, 8: 7670, 5: 7670, 9: 7670, 2: 7670, 3: 7670}) \n",
      "\n",
      "model.predict : [1 5 9 ... 1 8 5]\n",
      "model.score : 0.7504852962480081\n",
      "Accuracy :  0.6705833333333333\n",
      "Cross Validation scores : [0.722    0.707375 0.7115   0.716375 0.712125]\n",
      "Mean cv : 71.38749999999999\n"
     ]
    }
   ],
   "source": [
    "#splitting the data\n",
    "x4_train, x4_test, y4_train, y4_test = train_test_split(x4, y4, test_size = 0.3, random_state = 0)\n",
    "print('Classes and number of values in trainset before SMOTE:',Counter(y4_train),'\\n')\n",
    "\n",
    "#smote\n",
    "from imblearn.over_sampling import SMOTE\n",
    "oversample = SMOTE()\n",
    "x4_train,y4_train = oversample.fit_resample(x4_train,y4_train)\n",
    "print('Classes and number of values in trainset after SMOTE:',Counter(y4_train),'\\n')\n",
    "\n",
    "#importing svc\n",
    "from sklearn.svm import SVC\n",
    "classifier_svc=SVC(decision_function_shape='ovo')\n",
    "\n",
    "\n",
    "classifier_svc.fit(x4_train, y4_train)\n",
    "y4_pred = classifier_svc.predict(x4_test)\n",
    "print('model.predict :',y4_pred)\n",
    "print('model.score :', classifier_svc.score(x4_train, y4_train))\n",
    "\n",
    "from sklearn.metrics import accuracy_score\n",
    "accuracy_svc = accuracy_score(y4_test, y4_pred)\n",
    "print('Accuracy : ',accuracy_svc)\n",
    "\n",
    "from sklearn.model_selection import cross_val_score\n",
    "cv_scores_svc = cross_val_score(classifier_svc, x4, y4, cv=5)\n",
    "print('Cross Validation scores :', cv_scores_svc)\n",
    "\n",
    "mean_cv_svc = (np.mean(cv_scores_svc))*100\n",
    "print('Mean cv :',mean_cv_svc)"
   ]
  },
  {
   "cell_type": "code",
   "execution_count": 56,
   "id": "6b103b2e",
   "metadata": {},
   "outputs": [
    {
     "name": "stdout",
     "output_type": "stream",
     "text": [
      "F1-score (average = weighted): 0.68\n",
      "Precision (average = weighted): 0.71\n",
      "Recall (average = weighted): 0.67\n"
     ]
    }
   ],
   "source": [
    "f1_score_svc = f1_score(y4_test, y4_pred, average='weighted')\n",
    "print('F1-score (average = weighted): {:.2f}'.format(f1_score_svc))\n",
    "\n",
    "precision_score_svc = precision_score(y4_test, y4_pred, average='weighted')\n",
    "print('Precision (average = weighted): {:.2f}'.format(precision_score_svc))\n",
    "\n",
    "recall_score_svc = recall_score(y4_test, y4_pred, average='weighted')\n",
    "print('Recall (average = weighted): {:.2f}'.format(recall_score_svc))"
   ]
  },
  {
   "cell_type": "markdown",
   "id": "b7154b10",
   "metadata": {},
   "source": [
    "### Sample 5 - df5 - KNearest Neighbors"
   ]
  },
  {
   "cell_type": "code",
   "execution_count": 57,
   "id": "396cdb9f",
   "metadata": {},
   "outputs": [],
   "source": [
    "import random\n",
    "df5 = new_df.sample(40000)"
   ]
  },
  {
   "cell_type": "code",
   "execution_count": 58,
   "id": "87a20d04",
   "metadata": {},
   "outputs": [
    {
     "data": {
      "text/plain": [
       "1    11185\n",
       "4     8300\n",
       "7     6278\n",
       "5     5590\n",
       "6     5524\n",
       "9     1323\n",
       "8     1154\n",
       "3      479\n",
       "2      167\n",
       "Name: label, dtype: int64"
      ]
     },
     "execution_count": 58,
     "metadata": {},
     "output_type": "execute_result"
    }
   ],
   "source": [
    "df5['label'].value_counts()"
   ]
  },
  {
   "cell_type": "code",
   "execution_count": 77,
   "id": "62ff163e",
   "metadata": {},
   "outputs": [
    {
     "data": {
      "image/png": "[encoded data removed]",
      "text/plain": [
       "<Figure size 432x288 with 1 Axes>"
      ]
     },
     "metadata": {},
     "output_type": "display_data"
    }
   ],
   "source": [
    "#distribution of sample df5\n",
    "plt.pie(df5['label'].value_counts(), autopct = '%1.1f%%');"
   ]
  },
  {
   "cell_type": "code",
   "execution_count": 59,
   "id": "c8b25074",
   "metadata": {},
   "outputs": [],
   "source": [
    "# Splitting x and y variables\n",
    "x5 = df5[['time' ,'acc_x', 'mag_x', 'mag_y', 'acc_z', 'acc_y']] #independent features\n",
    "y5 = df5['label'] #dependent features"
   ]
  },
  {
   "cell_type": "code",
   "execution_count": 60,
   "id": "cb44aca2",
   "metadata": {},
   "outputs": [
    {
     "name": "stdout",
     "output_type": "stream",
     "text": [
      "Classes and number of values in trainset before SMOTE: Counter({1: 7786, 4: 5749, 7: 4420, 5: 3974, 6: 3912, 9: 921, 8: 784, 3: 328, 2: 126}) \n",
      "\n",
      "Classes and number of values in trainset after SMOTE: Counter({4: 7786, 7: 7786, 6: 7786, 1: 7786, 2: 7786, 5: 7786, 3: 7786, 9: 7786, 8: 7786}) \n",
      "\n",
      "model.predict : [9 7 8 ... 5 7 1]\n",
      "model.score : 0.937309130347918\n",
      "Accuracy :  0.7680833333333333\n",
      "Cross Validation scores : [0.7995   0.79975  0.79275  0.803375 0.7985  ]\n",
      "Mean cv : 79.8775\n"
     ]
    }
   ],
   "source": [
    "#splitting the data\n",
    "x5_train, x5_test, y5_train, y5_test = train_test_split(x5, y5, test_size = 0.3, random_state = 0)\n",
    "print('Classes and number of values in trainset before SMOTE:',Counter(y5_train),'\\n')\n",
    "\n",
    "#smote\n",
    "from imblearn.over_sampling import SMOTE\n",
    "oversample = SMOTE()\n",
    "x5_train,y5_train = oversample.fit_resample(x5_train,y5_train)\n",
    "print('Classes and number of values in trainset after SMOTE:',Counter(y5_train),'\\n')\n",
    "\n",
    "#importing kneighbours classifier\n",
    "from sklearn.neighbors import KNeighborsClassifier\n",
    "classifier_knn= KNeighborsClassifier()\n",
    "\n",
    "classifier_knn.fit(x5_train, y5_train)\n",
    "y5_pred = classifier_knn.predict(x5_test)\n",
    "print('model.predict :',y5_pred)\n",
    "print('model.score :', classifier_knn.score(x5_train, y5_train))\n",
    "\n",
    "from sklearn.metrics import accuracy_score\n",
    "accuracy_knn = accuracy_score(y5_test, y5_pred)\n",
    "print('Accuracy : ',accuracy_knn)\n",
    "\n",
    "from sklearn.model_selection import cross_val_score\n",
    "cv_scores_knn = cross_val_score(classifier_knn, x5, y5, cv=5)\n",
    "print('Cross Validation scores :', cv_scores_knn)\n",
    "\n",
    "mean_cv_knn = (np.mean(cv_scores_knn))*100\n",
    "print('Mean cv :',mean_cv_knn)"
   ]
  },
  {
   "cell_type": "code",
   "execution_count": 61,
   "id": "b3bd75c8",
   "metadata": {},
   "outputs": [
    {
     "name": "stdout",
     "output_type": "stream",
     "text": [
      "F1-score (average = weighted): 0.78\n",
      "Precision (average = weighted): 0.79\n",
      "Recall (average = weighted): 0.77\n"
     ]
    }
   ],
   "source": [
    "f1_score_knn = f1_score(y5_test, y5_pred, average='weighted')\n",
    "print('F1-score (average = weighted): {:.2f}'.format(f1_score_knn))\n",
    "\n",
    "precision_score_knn = precision_score(y5_test, y5_pred, average='weighted')\n",
    "print('Precision (average = weighted): {:.2f}'.format(precision_score_knn))\n",
    "\n",
    "recall_score_knn = recall_score(y5_test, y5_pred, average='weighted')\n",
    "print('Recall (average = weighted): {:.2f}'.format(recall_score_knn))"
   ]
  },
  {
   "cell_type": "markdown",
   "id": "daa60cff",
   "metadata": {},
   "source": [
    "### Sample 6 - df6 - AdaBoost Classifier"
   ]
  },
  {
   "cell_type": "code",
   "execution_count": 62,
   "id": "13905635",
   "metadata": {},
   "outputs": [],
   "source": [
    "import random\n",
    "df6 = new_df.sample(40000)"
   ]
  },
  {
   "cell_type": "code",
   "execution_count": 63,
   "id": "ee23eec4",
   "metadata": {},
   "outputs": [
    {
     "data": {
      "text/plain": [
       "1    11071\n",
       "4     8423\n",
       "7     6240\n",
       "6     5588\n",
       "5     5512\n",
       "9     1322\n",
       "8     1180\n",
       "3      489\n",
       "2      175\n",
       "Name: label, dtype: int64"
      ]
     },
     "execution_count": 63,
     "metadata": {},
     "output_type": "execute_result"
    }
   ],
   "source": [
    "df6['label'].value_counts()"
   ]
  },
  {
   "cell_type": "code",
   "execution_count": 78,
   "id": "2191abb2",
   "metadata": {},
   "outputs": [
    {
     "data": {
      "image/png": "[encoded data removed]",
      "text/plain": [
       "<Figure size 432x288 with 1 Axes>"
      ]
     },
     "metadata": {},
     "output_type": "display_data"
    }
   ],
   "source": [
    "#distribution of sample df6\n",
    "plt.pie(df6['label'].value_counts(), autopct = '%1.1f%%');"
   ]
  },
  {
   "cell_type": "code",
   "execution_count": 64,
   "id": "f4378572",
   "metadata": {},
   "outputs": [],
   "source": [
    "# Splitting x and y variables\n",
    "x6 = df6[['time' ,'acc_x', 'mag_x', 'mag_y', 'acc_z', 'acc_y']] #independent features\n",
    "y6 = df6['label'] #dependent features"
   ]
  },
  {
   "cell_type": "code",
   "execution_count": 65,
   "id": "cd75b2c1",
   "metadata": {},
   "outputs": [
    {
     "name": "stdout",
     "output_type": "stream",
     "text": [
      "Classes and number of values in trainset before SMOTE: Counter({1: 7668, 4: 5890, 7: 4386, 5: 3913, 6: 3897, 9: 942, 8: 812, 3: 361, 2: 131}) \n",
      "\n",
      "Classes and number of values in trainset after SMOTE: Counter({7: 7668, 1: 7668, 6: 7668, 4: 7668, 2: 7668, 5: 7668, 8: 7668, 3: 7668, 9: 7668}) \n",
      "\n",
      "model.predict : [1 5 4 ... 9 5 7]\n",
      "model.score : 0.43169303889178695\n",
      "Accuracy :  0.40108333333333335\n",
      "Cross Validation scores : [0.4045   0.471625 0.52675  0.5295   0.50475 ]\n",
      "Mean cv : 48.7425\n"
     ]
    }
   ],
   "source": [
    "###### splitting the data\n",
    "x6_train, x6_test, y6_train, y6_test = train_test_split(x6, y6, test_size = 0.3, random_state = 0)\n",
    "print('Classes and number of values in trainset before SMOTE:',Counter(y6_train),'\\n')\n",
    "\n",
    "#smote\n",
    "from imblearn.over_sampling import SMOTE\n",
    "oversample = SMOTE()\n",
    "x6_train,y6_train = oversample.fit_resample(x6_train,y6_train)\n",
    "print('Classes and number of values in trainset after SMOTE:',Counter(y6_train),'\\n')\n",
    "\n",
    "\n",
    "from sklearn.ensemble import AdaBoostClassifier\n",
    "classifier_ada = AdaBoostClassifier()\n",
    "\n",
    "classifier_ada.fit(x6_train, y6_train)\n",
    "y6_pred = classifier_ada.predict(x6_test)\n",
    "print('model.predict :',y6_pred)\n",
    "print('model.score :', classifier_ada.score(x6_train, y6_train))\n",
    "\n",
    "from sklearn.metrics import accuracy_score\n",
    "accuracy_ada = accuracy_score(y6_test, y6_pred)\n",
    "print('Accuracy : ',accuracy_ada)\n",
    "\n",
    "from sklearn.model_selection import cross_val_score\n",
    "cv_scores_ada = cross_val_score(classifier_ada, x6, y6, cv=5)\n",
    "print('Cross Validation scores :', cv_scores_ada)\n",
    "\n",
    "mean_cv_ada = (np.mean(cv_scores_ada))*100\n",
    "print('Mean cv :',mean_cv_ada)"
   ]
  },
  {
   "cell_type": "code",
   "execution_count": 66,
   "id": "3dad17df",
   "metadata": {},
   "outputs": [
    {
     "name": "stdout",
     "output_type": "stream",
     "text": [
      "F1-score (average = weighted): 0.43\n",
      "Precision (average = weighted): 0.51\n",
      "Recall (average = weighted): 0.40\n"
     ]
    }
   ],
   "source": [
    "f1_score_ada = f1_score(y6_test, y6_pred, average='weighted')\n",
    "print('F1-score (average = weighted): {:.2f}'.format(f1_score_ada))\n",
    "\n",
    "precision_score_ada = precision_score(y6_test, y6_pred, average='weighted')\n",
    "print('Precision (average = weighted): {:.2f}'.format(precision_score_ada))\n",
    "\n",
    "recall_score_ada = recall_score(y6_test, y6_pred, average='weighted')\n",
    "print('Recall (average = weighted): {:.2f}'.format(recall_score_ada))"
   ]
  },
  {
   "cell_type": "markdown",
   "id": "d58734f5",
   "metadata": {},
   "source": [
    "## MAKING A DATAFRAME OF ALL THE SCORES FOR EVERY MODEL BUILT"
   ]
  },
  {
   "cell_type": "code",
   "execution_count": 85,
   "id": "61eeda7b",
   "metadata": {},
   "outputs": [],
   "source": [
    "#Making a dataframe of all the scores for every model\n",
    "scores = [(\"Logistic Regression\", accuracy_lr,mean_cv_lr, f1_score_lr,precision_score_lr,recall_score_lr),\n",
    "           (\"Decision Tree\",accuracy_dtc,mean_cv_dtc, f1_score_dtc,precision_score_dtc,recall_score_dtc),\n",
    "           (\"Random Forest\", accuracy_rf,mean_accuracy_rf, f1_score_rf,precision_score_rf,recall_score_rf),\n",
    "           (\"KNN\", accuracy_knn,mean_cv_knn, f1_score_knn,precision_score_knn,recall_score_knn),\n",
    "           ('Support vector machine',accuracy_svc,mean_cv_svc, f1_score_svc,precision_score_svc,recall_score_svc),\n",
    "           ('AdaBoost Classifier',accuracy_ada,mean_cv_ada, f1_score_ada,precision_score_ada,recall_score_ada)]\n",
    "\n",
    "Scores =pd.DataFrame(data = scores, columns=['Model Name','Test Accuracy','Mean Cross validation score', 'F1 Score', 'Precision', 'Recall'])\n",
    "Scores.set_index('Model Name', inplace = True)"
   ]
  },
  {
   "cell_type": "code",
   "execution_count": 86,
   "id": "9e95b8a4",
   "metadata": {},
   "outputs": [
    {
     "data": {
      "text/html": [
       "<style type=\"text/css\">\n",
       "#T_13e9a_row0_col0, #T_13e9a_row0_col1, #T_13e9a_row0_col2, #T_13e9a_row0_col3, #T_13e9a_row0_col4 {\n",
       "  background-color: #ffffe5;\n",
       "  color: #000000;\n",
       "}\n",
       "#T_13e9a_row1_col0, #T_13e9a_row1_col4 {\n",
       "  background-color: #005830;\n",
       "  color: #f1f1f1;\n",
       "}\n",
       "#T_13e9a_row1_col1, #T_13e9a_row2_col0, #T_13e9a_row2_col1, #T_13e9a_row2_col2, #T_13e9a_row2_col3, #T_13e9a_row2_col4 {\n",
       "  background-color: #004529;\n",
       "  color: #f1f1f1;\n",
       "}\n",
       "#T_13e9a_row1_col2, #T_13e9a_row1_col3 {\n",
       "  background-color: #005530;\n",
       "  color: #f1f1f1;\n",
       "}\n",
       "#T_13e9a_row3_col0, #T_13e9a_row3_col4 {\n",
       "  background-color: #238443;\n",
       "  color: #f1f1f1;\n",
       "}\n",
       "#T_13e9a_row3_col1 {\n",
       "  background-color: #288a47;\n",
       "  color: #f1f1f1;\n",
       "}\n",
       "#T_13e9a_row3_col2 {\n",
       "  background-color: #228343;\n",
       "  color: #f1f1f1;\n",
       "}\n",
       "#T_13e9a_row3_col3 {\n",
       "  background-color: #2b8e4a;\n",
       "  color: #f1f1f1;\n",
       "}\n",
       "#T_13e9a_row4_col0, #T_13e9a_row4_col4 {\n",
       "  background-color: #53b466;\n",
       "  color: #f1f1f1;\n",
       "}\n",
       "#T_13e9a_row4_col1 {\n",
       "  background-color: #5cb86b;\n",
       "  color: #f1f1f1;\n",
       "}\n",
       "#T_13e9a_row4_col2 {\n",
       "  background-color: #4cb063;\n",
       "  color: #f1f1f1;\n",
       "}\n",
       "#T_13e9a_row4_col3 {\n",
       "  background-color: #5db96b;\n",
       "  color: #f1f1f1;\n",
       "}\n",
       "#T_13e9a_row5_col0, #T_13e9a_row5_col3, #T_13e9a_row5_col4 {\n",
       "  background-color: #f4fbb7;\n",
       "  color: #000000;\n",
       "}\n",
       "#T_13e9a_row5_col1 {\n",
       "  background-color: #f7fcb9;\n",
       "  color: #000000;\n",
       "}\n",
       "#T_13e9a_row5_col2 {\n",
       "  background-color: #edf8b2;\n",
       "  color: #000000;\n",
       "}\n",
       "</style>\n",
       "<table id=\"T_13e9a\">\n",
       "  <thead>\n",
       "    <tr>\n",
       "      <th class=\"blank level0\" >&nbsp;</th>\n",
       "      <th id=\"T_13e9a_level0_col0\" class=\"col_heading level0 col0\" >Test Accuracy</th>\n",
       "      <th id=\"T_13e9a_level0_col1\" class=\"col_heading level0 col1\" >Mean Cross validation score</th>\n",
       "      <th id=\"T_13e9a_level0_col2\" class=\"col_heading level0 col2\" >F1 Score</th>\n",
       "      <th id=\"T_13e9a_level0_col3\" class=\"col_heading level0 col3\" >Precision</th>\n",
       "      <th id=\"T_13e9a_level0_col4\" class=\"col_heading level0 col4\" >Recall</th>\n",
       "    </tr>\n",
       "    <tr>\n",
       "      <th class=\"index_name level0\" >Model Name</th>\n",
       "      <th class=\"blank col0\" >&nbsp;</th>\n",
       "      <th class=\"blank col1\" >&nbsp;</th>\n",
       "      <th class=\"blank col2\" >&nbsp;</th>\n",
       "      <th class=\"blank col3\" >&nbsp;</th>\n",
       "      <th class=\"blank col4\" >&nbsp;</th>\n",
       "    </tr>\n",
       "  </thead>\n",
       "  <tbody>\n",
       "    <tr>\n",
       "      <th id=\"T_13e9a_level0_row0\" class=\"row_heading level0 row0\" >Logistic Regression</th>\n",
       "      <td id=\"T_13e9a_row0_col0\" class=\"data row0 col0\" >0.318750</td>\n",
       "      <td id=\"T_13e9a_row0_col1\" class=\"data row0 col1\" >42.242500</td>\n",
       "      <td id=\"T_13e9a_row0_col2\" class=\"data row0 col2\" >0.327531</td>\n",
       "      <td id=\"T_13e9a_row0_col3\" class=\"data row0 col3\" >0.441404</td>\n",
       "      <td id=\"T_13e9a_row0_col4\" class=\"data row0 col4\" >0.318750</td>\n",
       "    </tr>\n",
       "    <tr>\n",
       "      <th id=\"T_13e9a_level0_row1\" class=\"row_heading level0 row1\" >Decision Tree</th>\n",
       "      <td id=\"T_13e9a_row1_col0\" class=\"data row1 col0\" >0.880583</td>\n",
       "      <td id=\"T_13e9a_row1_col1\" class=\"data row1 col1\" >93.695000</td>\n",
       "      <td id=\"T_13e9a_row1_col2\" class=\"data row1 col2\" >0.885856</td>\n",
       "      <td id=\"T_13e9a_row1_col3\" class=\"data row1 col3\" >0.895144</td>\n",
       "      <td id=\"T_13e9a_row1_col4\" class=\"data row1 col4\" >0.880583</td>\n",
       "    </tr>\n",
       "    <tr>\n",
       "      <th id=\"T_13e9a_level0_row2\" class=\"row_heading level0 row2\" >Random Forest</th>\n",
       "      <td id=\"T_13e9a_row2_col0\" class=\"data row2 col0\" >0.920750</td>\n",
       "      <td id=\"T_13e9a_row2_col1\" class=\"data row2 col1\" >93.800000</td>\n",
       "      <td id=\"T_13e9a_row2_col2\" class=\"data row2 col2\" >0.921957</td>\n",
       "      <td id=\"T_13e9a_row2_col3\" class=\"data row2 col3\" >0.923867</td>\n",
       "      <td id=\"T_13e9a_row2_col4\" class=\"data row2 col4\" >0.920750</td>\n",
       "    </tr>\n",
       "    <tr>\n",
       "      <th id=\"T_13e9a_level0_row3\" class=\"row_heading level0 row3\" >KNN</th>\n",
       "      <td id=\"T_13e9a_row3_col0\" class=\"data row3 col0\" >0.768083</td>\n",
       "      <td id=\"T_13e9a_row3_col1\" class=\"data row3 col1\" >79.877500</td>\n",
       "      <td id=\"T_13e9a_row3_col2\" class=\"data row3 col2\" >0.775313</td>\n",
       "      <td id=\"T_13e9a_row3_col3\" class=\"data row3 col3\" >0.788165</td>\n",
       "      <td id=\"T_13e9a_row3_col4\" class=\"data row3 col4\" >0.768083</td>\n",
       "    </tr>\n",
       "    <tr>\n",
       "      <th id=\"T_13e9a_level0_row4\" class=\"row_heading level0 row4\" >Support vector machine</th>\n",
       "      <td id=\"T_13e9a_row4_col0\" class=\"data row4 col0\" >0.670583</td>\n",
       "      <td id=\"T_13e9a_row4_col1\" class=\"data row4 col1\" >71.387500</td>\n",
       "      <td id=\"T_13e9a_row4_col2\" class=\"data row4 col2\" >0.684214</td>\n",
       "      <td id=\"T_13e9a_row4_col3\" class=\"data row4 col3\" >0.712492</td>\n",
       "      <td id=\"T_13e9a_row4_col4\" class=\"data row4 col4\" >0.670583</td>\n",
       "    </tr>\n",
       "    <tr>\n",
       "      <th id=\"T_13e9a_level0_row5\" class=\"row_heading level0 row5\" >AdaBoost Classifier</th>\n",
       "      <td id=\"T_13e9a_row5_col0\" class=\"data row5 col0\" >0.401083</td>\n",
       "      <td id=\"T_13e9a_row5_col1\" class=\"data row5 col1\" >48.742500</td>\n",
       "      <td id=\"T_13e9a_row5_col2\" class=\"data row5 col2\" >0.425586</td>\n",
       "      <td id=\"T_13e9a_row5_col3\" class=\"data row5 col3\" >0.508722</td>\n",
       "      <td id=\"T_13e9a_row5_col4\" class=\"data row5 col4\" >0.401083</td>\n",
       "    </tr>\n",
       "  </tbody>\n",
       "</table>\n"
      ],
      "text/plain": [
       "<pandas.io.formats.style.Styler at 0x2298c936550>"
      ]
     },
     "execution_count": 86,
     "metadata": {},
     "output_type": "execute_result"
    }
   ],
   "source": [
    "Scores.style.background_gradient(cmap='YlGn')"
   ]
  },
  {
   "cell_type": "markdown",
   "id": "dd2adb14",
   "metadata": {},
   "source": [
    "### Conclusion:\n",
    "We see that Random Forest gives the highest accuracy."
   ]
  },
  {
   "cell_type": "code",
   "execution_count": null,
   "id": "69332cde",
   "metadata": {},
   "outputs": [],
   "source": []
  }
 ],
 "metadata": {
  "kernelspec": {
   "display_name": "Python 3 (ipykernel)",
   "language": "python",
   "name": "python3"
  },
  "language_info": {
   "codemirror_mode": {
    "name": "ipython",
    "version": 3
   },
   "file_extension": ".py",
   "mimetype": "text/x-python",
   "name": "python",
   "nbconvert_exporter": "python",
   "pygments_lexer": "ipython3",
   "version": "3.9.12"
  }
 },
 "nbformat": 4,
 "nbformat_minor": 5
}
